{
 "cells": [
  {
   "cell_type": "markdown",
   "metadata": {},
   "source": [
    "## Code for reproducing analysis and figure in paper\n",
    "\n",
    "**IMPORTANT:** Note all code in this folder is only meant to be used for reproducing analysis in the paper, not for analyzing your own output as there are hard-coded parameters that only makes sense for specific datasets"
   ]
  },
  {
   "cell_type": "code",
   "execution_count": null,
   "metadata": {},
   "outputs": [],
   "source": [
    "import morpheus as mp\n",
    "\n",
    "#optional: set the default style for matplotlib\n",
    "!pip install umap-learn mplscience -Uqqqq\n",
    "import mplscience\n",
    "mplscience.available_styles()\n",
    "mplscience.set_style(reset_current=True)\n",
    "\n",
    "%reload_ext autoreload\n",
    "%autoreload 2"
   ]
  },
  {
   "cell_type": "markdown",
   "metadata": {},
   "source": [
    "### Load data sets"
   ]
  },
  {
   "cell_type": "code",
   "execution_count": null,
   "metadata": {},
   "outputs": [],
   "source": [
    "# initialize two SpatialDataset Object (modify the path to the data on your machine)\n",
    "BASE_DIR = \"/groups/mthomson/zwang2/IMC/output/hochMelanoma_sz48_pxl3_nc41/replicate\"\n",
    "mla_data = mp.SpatialDataset(\n",
    "    input_path=f\"{BASE_DIR}/singlecell.csv\",  # path to the single cell data\n",
    "    cf_dir=f\"{BASE_DIR}/cf/run_0\",  # path to the computed perturbations\n",
    "    model_path=f\"{BASE_DIR}/model/epoch=21-step=7106.ckpt\",  # path to the trained model\n",
    "    additional_cols=[\n",
    "        \"Cancer_Stage\"\n",
    "    ],  # additional columns to be loaded from the single cell data\n",
    ")"
   ]
  },
  {
   "cell_type": "code",
   "execution_count": null,
   "metadata": {},
   "outputs": [],
   "source": [
    "BASE_DIR = \"/groups/mthomson/zwang2/IMC/output/cedarsLiver_sz48_pxl3_nc44/replicate\"\n",
    "crc_data = mp.SpatialDataset(\n",
    "    input_path=f\"{BASE_DIR}/singlecell.csv\",\n",
    "    cf_dir=f\"{BASE_DIR}/cf/run_0\",\n",
    "    model_path=f\"{BASE_DIR}/model/epoch=27-step=9744.ckpt\",\n",
    "    additional_cols=[\"type\", \"FLD\"],\n",
    ")"
   ]
  },
  {
   "cell_type": "code",
   "execution_count": null,
   "metadata": {},
   "outputs": [],
   "source": [
    "BASE_DIR = \"/groups/mthomson/zwang2/IMC/output/danenbergBreast_sz48_pxl3_nc39/replicate\"\n",
    "bst_data = mp.SpatialDataset(\n",
    "    input_path=f\"{BASE_DIR}/singlecell.csv\",\n",
    ")"
   ]
  },
  {
   "cell_type": "markdown",
   "metadata": {},
   "source": [
    "### 0. Assess model performance"
   ]
  },
  {
   "cell_type": "code",
   "execution_count": null,
   "metadata": {},
   "outputs": [],
   "source": [
    "from analysis_helper import get_rmse_and_prediction, optimize_threshold\n",
    "from figure_helper import plot_prediction_scatterplot, plot_rmse"
   ]
  },
  {
   "cell_type": "code",
   "execution_count": null,
   "metadata": {},
   "outputs": [],
   "source": [
    "all_pred = {}\n",
    "all_rmse = {}\n",
    "for name, data in {\n",
    "    \"Melanoma\": mla_data,\n",
    "    \"CRC\": crc_data,\n",
    "    \"Breast tumor\": bst_data,\n",
    "}.items():\n",
    "    thresh, _ = optimize_threshold(data)\n",
    "    pred, rmse = get_rmse_and_prediction(data, split=\"test\", classify_threshold=thresh)\n",
    "    print(f\"{name} RMSE: {rmse}\")\n",
    "    print(f\"{name} Threshold: {thresh}\")\n",
    "    all_pred[name] = pred\n",
    "    all_rmse[name] = rmse\n",
    "\n",
    "plot_prediction_scatterplot(all_pred)\n",
    "plot_rmse(all_rmse)"
   ]
  },
  {
   "cell_type": "markdown",
   "metadata": {},
   "source": [
    "### 1. Visualizing patient-level perturbations"
   ]
  },
  {
   "cell_type": "code",
   "execution_count": null,
   "metadata": {},
   "outputs": [],
   "source": [
    "# import relevant functions\n",
    "from analysis_helper import retrieve_perturbation\n",
    "from figure_helper import plot_patient_perturbation"
   ]
  },
  {
   "cell_type": "markdown",
   "metadata": {},
   "source": [
    "##### Melanoma"
   ]
  },
  {
   "cell_type": "code",
   "execution_count": null,
   "metadata": {},
   "outputs": [],
   "source": [
    "cf_mla, channel_to_perturb_mla = retrieve_perturbation(\n",
    "    mla_data, additional_col=[\"Cancer_Stage\"]\n",
    ")\n",
    "strategy_mla, patient_cf_mla = plot_patient_perturbation(\n",
    "    mla_data,\n",
    "    cf_mla,\n",
    "    channel_to_perturb_mla,\n",
    "    numClust=3,\n",
    "    extra_cols=[\"Cancer_Stage\"],\n",
    ")\n",
    "strategy_mla = strategy_mla.iloc[1:]  # keep the two major clusters\n",
    "display(strategy_mla)"
   ]
  },
  {
   "cell_type": "markdown",
   "metadata": {},
   "source": [
    "##### CRC"
   ]
  },
  {
   "cell_type": "code",
   "execution_count": null,
   "metadata": {},
   "outputs": [],
   "source": [
    "cf_crc, channel_to_perturb_crc = retrieve_perturbation(\n",
    "    crc_data, additional_col=[\"type\", \"FLD\"]\n",
    ")"
   ]
  },
  {
   "cell_type": "code",
   "execution_count": null,
   "metadata": {},
   "outputs": [],
   "source": [
    "strategy_crc, patient_cf_crc = plot_patient_perturbation(\n",
    "    crc_data, cf_crc, channel_to_perturb_crc, numClust=2, extra_cols=[\"FLD\"]\n",
    ")\n",
    "display(strategy_crc)"
   ]
  },
  {
   "cell_type": "code",
   "execution_count": null,
   "metadata": {},
   "outputs": [],
   "source": [
    "import pandas as pd\n",
    "\n",
    "pat27 = cf_crc[cf_crc[\"PatientID\"].isin([21])]\n",
    "id_to_remove = pat27[(pat27[\"PD1\"] >= 0) & (pat27[\"PDL1\"] >= 0)].sample(2)[\"patch_id\"]\n",
    "\n",
    "pat27 = cf_crc[cf_crc[\"PatientID\"].isin([10])]\n",
    "id_to_remove = pd.concat(\n",
    "    [id_to_remove, pat27[(pat27[\"PDL1\"] >= 0)].sample(1)[\"patch_id\"]]\n",
    ")"
   ]
  },
  {
   "cell_type": "code",
   "execution_count": null,
   "metadata": {},
   "outputs": [],
   "source": [
    "strategy_crc, patient_cf_crc = plot_patient_perturbation(\n",
    "    cf_crc[~cf_crc[\"patch_id\"].isin(id_to_remove)],\n",
    "    channel_to_perturb_crc,\n",
    "    extra_cols=[\"FLD\"],\n",
    ")\n",
    "display(strategy_crc)"
   ]
  },
  {
   "cell_type": "markdown",
   "metadata": {},
   "source": [
    "### 2. Assess effectiveness of perturbation on test cohort"
   ]
  },
  {
   "cell_type": "code",
   "execution_count": null,
   "metadata": {},
   "outputs": [],
   "source": [
    "# import relevant functions\n",
    "from analysis_helper import assess_perturbation\n",
    "from figure_helper import plot_perturbation_performance"
   ]
  },
  {
   "cell_type": "markdown",
   "metadata": {},
   "source": [
    "##### Melanoma"
   ]
  },
  {
   "cell_type": "code",
   "execution_count": null,
   "metadata": {},
   "outputs": [],
   "source": [
    "tcell_level_melanoma = assess_perturbation(\n",
    "    mla_data,\n",
    "    strategy_mla,\n",
    "    data_split=\"test\",\n",
    "    classify_threshold=0.31,\n",
    "    additional_col=[\"Cancer_Stage\"],\n",
    ")\n",
    "plot_perturbation_performance(\n",
    "    tcell_level_melanoma,\n",
    "    patient_phenotype=\"Cancer_Stage\",\n",
    "    strategy_mapping={\n",
    "        \"strategy_1\": \"IV\",\n",
    "        \"strategy_2\": \"III\",\n",
    "    },  # mapping of the strategies to the phenotypes\n",
    ")"
   ]
  },
  {
   "cell_type": "markdown",
   "metadata": {},
   "source": [
    "##### CRC"
   ]
  },
  {
   "cell_type": "code",
   "execution_count": null,
   "metadata": {},
   "outputs": [],
   "source": [
    "tcell_level_crc = assess_perturbation(\n",
    "    crc_data,\n",
    "    strategy_crc,\n",
    "    data_split=\"test\",\n",
    "    classify_threshold=0.33,\n",
    "    additional_col=[\"FLD\", \"type\"],\n",
    ")\n",
    "\n",
    "tcell_level_crc[\"FLD\"] = tcell_level_crc.apply(\n",
    "    lambda x: 1 if x[\"FLD\"] > 0 else 0, axis=1\n",
    ")\n",
    "tcell_level_patient = plot_perturbation_performance(\n",
    "    tcell_level_crc,\n",
    "    patient_phenotype=\"FLD\",\n",
    "    strategy_mapping={\"strategy_1\": 1, \"strategy_2\": 0},\n",
    ")"
   ]
  },
  {
   "cell_type": "markdown",
   "metadata": {},
   "source": [
    "### 3. Visualizing perturbation vectors in UMAP space"
   ]
  },
  {
   "cell_type": "code",
   "execution_count": null,
   "metadata": {},
   "outputs": [],
   "source": [
    "from analysis_helper import get_umap_embeddings\n",
    "from figure_helper import plot_umap_embedding, plot_umap_embedding_crc"
   ]
  },
  {
   "cell_type": "code",
   "execution_count": null,
   "metadata": {},
   "outputs": [],
   "source": [
    "embedding_mla, umap_cf_mla = get_umap_embeddings(\n",
    "    mla_data, cf_mla, channel_to_perturb_mla\n",
    ")\n",
    "plot_umap_embedding(embedding_mla, umap_cf_mla)"
   ]
  },
  {
   "cell_type": "code",
   "execution_count": null,
   "metadata": {},
   "outputs": [],
   "source": [
    "plot_umap_embedding(embedding_mla, umap_cf_mla, pie_chart=True, save_fig=True)"
   ]
  },
  {
   "cell_type": "code",
   "execution_count": null,
   "metadata": {},
   "outputs": [],
   "source": [
    "embedding_crc, umap_cf_crc = get_umap_embeddings(\n",
    "    crc_data, cf_crc, channel_to_perturb_crc, additional_col=[\"type\"]\n",
    ")\n",
    "plot_umap_embedding_crc(embedding_crc, umap_cf_crc)"
   ]
  },
  {
   "cell_type": "markdown",
   "metadata": {},
   "source": [
    "### 4. Comparing patients across clusters with volcano plots"
   ]
  },
  {
   "cell_type": "code",
   "execution_count": null,
   "metadata": {},
   "outputs": [],
   "source": [
    "!pip install statsmodels -Uqqqq\n",
    "from analysis_helper import differential_analysis_celltype, differential_analysis_genes\n",
    "from figure_helper import make_volcano_plot"
   ]
  },
  {
   "cell_type": "code",
   "execution_count": null,
   "metadata": {},
   "outputs": [],
   "source": [
    "mla_celltype_da = differential_analysis_celltype(mla_data, patient_cf_mla)\n",
    "mla_genes_da = differential_analysis_genes(\n",
    "    mla_data, patient_cf_mla, channel_to_perturb_mla\n",
    ")\n",
    "make_volcano_plot(mla_genes_da, mla_celltype_da)"
   ]
  },
  {
   "cell_type": "code",
   "execution_count": null,
   "metadata": {},
   "outputs": [],
   "source": [
    "crc_celltype_da = differential_analysis_celltype(crc_data, patient_cf_crc)\n",
    "crc_genes_da = differential_analysis_genes(\n",
    "    crc_data, patient_cf_crc, channel_to_perturb_crc\n",
    ")\n",
    "make_volcano_plot(crc_genes_da, crc_celltype_da)"
   ]
  },
  {
   "cell_type": "markdown",
   "metadata": {},
   "source": [
    "### 5. Tissue-level perturbation heatmap (CRC only)"
   ]
  },
  {
   "cell_type": "code",
   "execution_count": null,
   "metadata": {},
   "outputs": [],
   "source": [
    "from figure_helper import plot_tissue_level_perturbation"
   ]
  },
  {
   "cell_type": "code",
   "execution_count": null,
   "metadata": {},
   "outputs": [],
   "source": [
    "plot_tissue_level_perturbation(cf_crc, channel_to_perturb_crc)"
   ]
  },
  {
   "cell_type": "markdown",
   "metadata": {},
   "source": [
    "### 6. Patch-level perturbation heatmap (Melanoma only)"
   ]
  },
  {
   "cell_type": "code",
   "execution_count": null,
   "metadata": {},
   "outputs": [],
   "source": [
    "from analysis_helper import get_IHC_subset\n",
    "from figure_helper import make_patch_heatmap_mla"
   ]
  },
  {
   "cell_type": "code",
   "execution_count": null,
   "metadata": {},
   "outputs": [],
   "source": [
    "X, label = get_IHC_subset(mla_data, channel_to_perturb_mla)\n",
    "make_patch_heatmap_mla(X, label, save_fig=True)"
   ]
  },
  {
   "cell_type": "markdown",
   "metadata": {},
   "source": [
    "### 7. strategy at different sparsity"
   ]
  },
  {
   "cell_type": "code",
   "execution_count": null,
   "metadata": {},
   "outputs": [],
   "source": [
    "from figure_helper import make_multi_strat_plot"
   ]
  },
  {
   "cell_type": "code",
   "execution_count": null,
   "metadata": {},
   "outputs": [],
   "source": [
    "allStrategy = pd.DataFrame(\n",
    "    [\n",
    "        [0, 0, 0, 0, 0, 0, -100, 0, 0, 0.0, 0, 0, 0, 0, 0],\n",
    "        [0, 0, 0, 0, 0, 0, -100, -100, 0, 0.0, 0, 0, 0, 0, 0],\n",
    "        [0, 0, 0, 0, 0, 0, -100, -100, -50, 0.0, 0, 0, 0, 0, 0],\n",
    "        [0, 0, -100, 0, 0, 0, -100, -100, -52, 0.0, 0, 0, 0, 0, 0],\n",
    "    ],\n",
    "    columns=channel_to_perturb_crc,\n",
    ")\n",
    "tcell_level_crc = assess_perturbation(\n",
    "    crc_data,\n",
    "    allStrategy,\n",
    "    data_split=\"test\",\n",
    "    classify_threshold=0.33,\n",
    "    additional_col=[\"FLD\", \"type\"],\n",
    ")"
   ]
  },
  {
   "cell_type": "code",
   "execution_count": null,
   "metadata": {},
   "outputs": [],
   "source": [
    "make_multi_strat_plot(\n",
    "    allStrategy, tcell_level_crc, chemlabel=[\"CXCR4\", \"PD1\", \"CYR61\", \"PDL1\"]\n",
    ")"
   ]
  },
  {
   "cell_type": "code",
   "execution_count": null,
   "metadata": {},
   "outputs": [],
   "source": []
  }
 ],
 "metadata": {
  "kernelspec": {
   "display_name": "morpheus-spatial-ndDQRg-x-py3.9",
   "language": "python",
   "name": "python3"
  },
  "language_info": {
   "codemirror_mode": {
    "name": "ipython",
    "version": 3
   },
   "file_extension": ".py",
   "mimetype": "text/x-python",
   "name": "python",
   "nbconvert_exporter": "python",
   "pygments_lexer": "ipython3",
   "version": "3.9.18"
  }
 },
 "nbformat": 4,
 "nbformat_minor": 2
}
