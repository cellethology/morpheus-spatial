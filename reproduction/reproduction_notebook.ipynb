{
 "cells": [
  {
   "cell_type": "markdown",
   "metadata": {},
   "source": [
    "## Code for reproducing analysis and figure in paper\n",
    "\n",
    "**IMPORTANT:** Note all code in this folder is only meant to be used for reproducing analysis in the paper, not for analyzing your own output as there are hard-coded parameters that only makes sense for specific datasets"
   ]
  },
  {
   "cell_type": "code",
   "execution_count": null,
   "metadata": {},
   "outputs": [],
   "source": [
    "import morpheus as mp\n",
    "\n",
    "#optional: set the default style for matplotlib\n",
    "!pip install umap-learn mplscience statsmodels -Uqqqq\n",
    "import mplscience\n",
    "mplscience.available_styles()\n",
    "mplscience.set_style(reset_current=True)\n",
    "\n",
    "%reload_ext autoreload\n",
    "%autoreload 2"
   ]
  },
  {
   "cell_type": "markdown",
   "metadata": {},
   "source": [
    "### Load data sets"
   ]
  },
  {
   "cell_type": "code",
   "execution_count": null,
   "metadata": {},
   "outputs": [],
   "source": [
    "# initialize a SpatialDataset Object (modify the path to the data on your machine)\n",
    "BASE_DIR = \"/groups/mthomson/zwang2/IMC/paper/melanoma\"\n",
    "mla_data = mp.SpatialDataset(\n",
    "    input_path=f\"{BASE_DIR}/singlecell.csv\",  # path to the single cell data\n",
    "    cf_dir=f\"{BASE_DIR}/cf/run_0\",  # path to the computed perturbations\n",
    "    model_path=f\"{BASE_DIR}/model/unet.ckpt\",  # path to the trained model\n",
    "    additional_cols=[\"Cancer_Stage\"],\n",
    ")\n",
    "\n",
    "BASE_DIR = \"/groups/mthomson/zwang2/IMC/paper/crc\"\n",
    "crc_data = mp.SpatialDataset(\n",
    "    input_path=f\"{BASE_DIR}/singlecell.csv\",\n",
    "    cf_dir=f\"{BASE_DIR}/cf/run_0\",\n",
    "    model_path=f\"{BASE_DIR}/model/unet.ckpt\",\n",
    "    additional_cols=[\"type\", \"FLD\"],\n",
    ")\n",
    "\n",
    "BASE_DIR = \"/groups/mthomson/zwang2/IMC/paper/breast\"\n",
    "bst_data = mp.SpatialDataset(\n",
    "    input_path=f\"{BASE_DIR}/singlecell.csv\",\n",
    ")"
   ]
  },
  {
   "cell_type": "markdown",
   "metadata": {},
   "source": [
    "### 0. Assess model performance"
   ]
  },
  {
   "cell_type": "code",
   "execution_count": null,
   "metadata": {},
   "outputs": [],
   "source": [
    "from analysis_helper import get_rmse_and_prediction, optimize_threshold\n",
    "from figure_helper import plot_prediction_scatterplot, plot_rmse"
   ]
  },
  {
   "cell_type": "code",
   "execution_count": null,
   "metadata": {},
   "outputs": [],
   "source": [
    "all_pred = {}\n",
    "all_rmse = {}\n",
    "thresholds = {}\n",
    "for name, data in {\n",
    "    \"Melanoma\": mla_data,\n",
    "    \"CRC\": crc_data,\n",
    "    \"Breast tumor\": bst_data,\n",
    "}.items():\n",
    "    thresh = optimize_threshold(data, split=\"validate\")\n",
    "    pred, rmse = get_rmse_and_prediction(data, split=\"test\", classify_threshold=thresh)\n",
    "    print(f\"{name} RMSE: {rmse}\")\n",
    "    all_pred[name] = pred\n",
    "    all_rmse[name] = rmse\n",
    "    thresholds[name] = thresh\n",
    "\n",
    "plot_prediction_scatterplot(all_pred)\n",
    "plot_rmse(all_rmse)"
   ]
  },
  {
   "cell_type": "markdown",
   "metadata": {},
   "source": [
    "### 1. Visualizing patient-level perturbations"
   ]
  },
  {
   "cell_type": "code",
   "execution_count": null,
   "metadata": {},
   "outputs": [],
   "source": [
    "# import relevant functions\n",
    "from analysis_helper import retrieve_perturbation\n",
    "from figure_helper import plot_patient_perturbation"
   ]
  },
  {
   "cell_type": "markdown",
   "metadata": {},
   "source": [
    "##### Melanoma"
   ]
  },
  {
   "cell_type": "code",
   "execution_count": null,
   "metadata": {},
   "outputs": [],
   "source": [
    "cf_mla, channel_to_perturb_mla = retrieve_perturbation(\n",
    "    mla_data, additional_col=[\"Cancer_Stage\"]\n",
    ")\n",
    "strategy_mla, patient_cf_mla = plot_patient_perturbation(\n",
    "    mla_data,\n",
    "    cf_mla,\n",
    "    channel_to_perturb_mla,\n",
    "    numClust=3,\n",
    "    extra_cols=[\"Cancer_Stage\"],\n",
    "    keep_top_2=True,\n",
    ")\n",
    "display(strategy_mla)"
   ]
  },
  {
   "cell_type": "markdown",
   "metadata": {},
   "source": [
    "##### CRC"
   ]
  },
  {
   "cell_type": "code",
   "execution_count": null,
   "metadata": {},
   "outputs": [],
   "source": [
    "cf_crc, channel_to_perturb_crc = retrieve_perturbation(\n",
    "    crc_data, additional_col=[\"type\", \"FLD\"]\n",
    ")\n",
    "strategy_crc, patient_cf_crc = plot_patient_perturbation(\n",
    "    crc_data,\n",
    "    cf_crc,\n",
    "    channel_to_perturb_crc,\n",
    "    numClust=2,\n",
    "    extra_cols=[\"FLD\"],\n",
    ")\n",
    "display(strategy_crc)"
   ]
  },
  {
   "cell_type": "markdown",
   "metadata": {},
   "source": [
    "### 2. Assess effectiveness of perturbation on test cohort"
   ]
  },
  {
   "cell_type": "code",
   "execution_count": null,
   "metadata": {},
   "outputs": [],
   "source": [
    "# import relevant functions\n",
    "from analysis_helper import assess_perturbation\n",
    "from figure_helper import plot_perturbation_performance"
   ]
  },
  {
   "cell_type": "markdown",
   "metadata": {},
   "source": [
    "##### Melanoma"
   ]
  },
  {
   "cell_type": "code",
   "execution_count": null,
   "metadata": {},
   "outputs": [],
   "source": [
    "tcell_level_melanoma = assess_perturbation(\n",
    "    mla_data,\n",
    "    strategy_mla,\n",
    "    data_split=\"test\",\n",
    "    classify_threshold=thresholds[\"Melanoma\"],\n",
    "    additional_col=[\"Cancer_Stage\"],\n",
    ")\n",
    "\n",
    "plot_perturbation_performance(\n",
    "    tcell_level_melanoma,\n",
    ")"
   ]
  },
  {
   "cell_type": "markdown",
   "metadata": {},
   "source": [
    "##### CRC"
   ]
  },
  {
   "cell_type": "code",
   "execution_count": null,
   "metadata": {},
   "outputs": [],
   "source": [
    "tcell_level_crc = assess_perturbation(\n",
    "    crc_data,\n",
    "    strategy_crc,\n",
    "    data_split=\"test\",\n",
    "    classify_threshold=thresholds[\"CRC\"],\n",
    "    additional_col=[\"FLD\", \"type\"],\n",
    ")\n",
    "\n",
    "tcell_level_crc[\"FLD\"] = tcell_level_crc.apply(\n",
    "    lambda x: 1 if x[\"FLD\"] > 0 else 0, axis=1\n",
    ")\n",
    "\n",
    "plot_perturbation_performance(\n",
    "    tcell_level_crc,\n",
    "    patient_phenotype=\"FLD\",\n",
    "    strategy_mapping={\"strategy_1\": 1, \"strategy_2\": 0},\n",
    ")"
   ]
  },
  {
   "cell_type": "markdown",
   "metadata": {},
   "source": [
    "### 3. Visualizing perturbation vectors in UMAP space"
   ]
  },
  {
   "cell_type": "code",
   "execution_count": null,
   "metadata": {},
   "outputs": [],
   "source": [
    "from analysis_helper import get_umap_embeddings\n",
    "from figure_helper import plot_umap_embedding, plot_umap_embedding_crc"
   ]
  },
  {
   "cell_type": "code",
   "execution_count": null,
   "metadata": {},
   "outputs": [],
   "source": [
    "embedding_mla, umap_cf_mla = get_umap_embeddings(\n",
    "    mla_data, cf_mla, channel_to_perturb_mla\n",
    ")"
   ]
  },
  {
   "cell_type": "code",
   "execution_count": null,
   "metadata": {},
   "outputs": [],
   "source": [
    "plot_umap_embedding(embedding_mla, umap_cf_mla, pie_chart=True, save_fig=True)"
   ]
  },
  {
   "cell_type": "code",
   "execution_count": null,
   "metadata": {},
   "outputs": [],
   "source": [
    "embedding_crc, umap_cf_crc = get_umap_embeddings(\n",
    "    crc_data, cf_crc, channel_to_perturb_crc, additional_col=[\"type\"]\n",
    ")\n",
    "plot_umap_embedding_crc(embedding_crc, umap_cf_crc)"
   ]
  },
  {
   "cell_type": "markdown",
   "metadata": {},
   "source": [
    "### 4. Comparing patients across clusters with volcano plots"
   ]
  },
  {
   "cell_type": "code",
   "execution_count": null,
   "metadata": {},
   "outputs": [],
   "source": [
    "from analysis_helper import differential_analysis_celltype, differential_analysis_genes\n",
    "from figure_helper import make_volcano_plot"
   ]
  },
  {
   "cell_type": "code",
   "execution_count": null,
   "metadata": {},
   "outputs": [],
   "source": [
    "mla_celltype_da = differential_analysis_celltype(mla_data, patient_cf_mla)\n",
    "mla_genes_da = differential_analysis_genes(\n",
    "    mla_data, patient_cf_mla, channel_to_perturb_mla\n",
    ")\n",
    "make_volcano_plot(mla_genes_da, mla_celltype_da)"
   ]
  },
  {
   "cell_type": "code",
   "execution_count": null,
   "metadata": {},
   "outputs": [],
   "source": [
    "crc_celltype_da = differential_analysis_celltype(crc_data, patient_cf_crc)\n",
    "crc_genes_da = differential_analysis_genes(\n",
    "    crc_data, patient_cf_crc, channel_to_perturb_crc\n",
    ")"
   ]
  },
  {
   "cell_type": "code",
   "execution_count": null,
   "metadata": {},
   "outputs": [],
   "source": [
    "make_volcano_plot(crc_genes_da, crc_celltype_da, save_fig=True)"
   ]
  },
  {
   "cell_type": "markdown",
   "metadata": {},
   "source": [
    "### 5. Tissue-level perturbation heatmap (CRC only)"
   ]
  },
  {
   "cell_type": "code",
   "execution_count": null,
   "metadata": {},
   "outputs": [],
   "source": [
    "from figure_helper import plot_tissue_level_perturbation"
   ]
  },
  {
   "cell_type": "code",
   "execution_count": null,
   "metadata": {},
   "outputs": [],
   "source": [
    "plot_tissue_level_perturbation(cf_crc, channel_to_perturb_crc, save_fig=True)"
   ]
  },
  {
   "cell_type": "markdown",
   "metadata": {},
   "source": [
    "### 6. Patch-level perturbation heatmap (Melanoma only)"
   ]
  },
  {
   "cell_type": "code",
   "execution_count": null,
   "metadata": {},
   "outputs": [],
   "source": [
    "from analysis_helper import get_IHC_subset\n",
    "from figure_helper import make_patch_heatmap_mla"
   ]
  },
  {
   "cell_type": "code",
   "execution_count": null,
   "metadata": {},
   "outputs": [],
   "source": [
    "X, label = get_IHC_subset(mla_data, channel_to_perturb_mla)\n",
    "make_patch_heatmap_mla(X, label, save_fig=True)"
   ]
  },
  {
   "cell_type": "markdown",
   "metadata": {},
   "source": [
    "### 7. strategy at different sparsity"
   ]
  },
  {
   "cell_type": "code",
   "execution_count": null,
   "metadata": {},
   "outputs": [],
   "source": [
    "from analysis_helper import assess_perturbation\n",
    "from figure_helper import make_multi_strat_plot\n",
    "import pandas as pd"
   ]
  },
  {
   "cell_type": "code",
   "execution_count": null,
   "metadata": {},
   "outputs": [],
   "source": [
    "allStrategy = pd.read_csv(\"allstrat_crc.csv\")\n",
    "tcell_crc = assess_perturbation(\n",
    "    crc_data,\n",
    "    allStrategy,\n",
    "    data_split=\"test\",\n",
    "    classify_threshold=0.33,  # 0.33 for CRC\n",
    "    additional_col=[\"FLD\", \"type\"],\n",
    ")\n",
    "infiltrate_lower, infiltrate_upper = make_multi_strat_plot(\n",
    "    allStrategy,\n",
    "    tcell_crc,\n",
    "    chemlabel=[\"CXCR4\", \"PD1\", \"CYR61\", \"PDL1\", \"IL10\"],\n",
    "    save_fig=True,\n",
    ")"
   ]
  },
  {
   "cell_type": "code",
   "execution_count": null,
   "metadata": {},
   "outputs": [],
   "source": [
    "allStrategy = pd.read_csv(\"allstrat_mla.csv\")\n",
    "tcell_mla = assess_perturbation(\n",
    "    mla_data,\n",
    "    allStrategy,\n",
    "    data_split=\"test\",\n",
    "    classify_threshold=0.31,  # 0.33 for melanoma\n",
    ")\n",
    "infiltrate_lower, infiltrate_upper = make_multi_strat_plot(\n",
    "    allStrategy,\n",
    "    tcell_mla,\n",
    "    chemlabel=[\"CXCL9\", \"CCL18\", \"CCL22\", \"CXCL10\", \"CXCL12\", \"CXCL8\"],\n",
    "    save_fig=True,\n",
    ")"
   ]
  },
  {
   "cell_type": "markdown",
   "metadata": {},
   "source": [
    "### 8. Correlation plots"
   ]
  },
  {
   "cell_type": "code",
   "execution_count": null,
   "metadata": {},
   "outputs": [],
   "source": [
    "from analysis_helper import get_feature_correlation\n",
    "from figure_helper import plot_correlation"
   ]
  },
  {
   "cell_type": "code",
   "execution_count": null,
   "metadata": {},
   "outputs": [],
   "source": [
    "corr_mla = get_feature_correlation(mla_data, channel_to_perturb_mla)\n",
    "plot_correlation(corr_mla, save_fig=True)"
   ]
  },
  {
   "cell_type": "code",
   "execution_count": null,
   "metadata": {},
   "outputs": [],
   "source": [
    "corr_crc = get_feature_correlation(crc_data, channel_to_perturb_crc)\n",
    "plot_correlation(corr_crc, save_fig=True)"
   ]
  },
  {
   "cell_type": "markdown",
   "metadata": {},
   "source": [
    "### 9. T cell map"
   ]
  },
  {
   "cell_type": "code",
   "execution_count": null,
   "metadata": {},
   "outputs": [],
   "source": [
    "from figure_helper import get_example_Tcell_map, make_multiple_Tcell_map"
   ]
  },
  {
   "cell_type": "code",
   "execution_count": null,
   "metadata": {},
   "outputs": [],
   "source": [
    "get_example_Tcell_map(mla_data, tcell_level_mla, img=23)"
   ]
  },
  {
   "cell_type": "code",
   "execution_count": null,
   "metadata": {},
   "outputs": [],
   "source": [
    "make_multiple_Tcell_map(mla_data, 0.31, save_fig=True)"
   ]
  },
  {
   "cell_type": "code",
   "execution_count": null,
   "metadata": {},
   "outputs": [],
   "source": [
    "make_multiple_Tcell_map(crc_data, 0.33, save_fig=True)"
   ]
  },
  {
   "cell_type": "code",
   "execution_count": null,
   "metadata": {},
   "outputs": [],
   "source": [
    "make_multiple_Tcell_map(bst_data, 0.14, save_fig=True)"
   ]
  }
 ],
 "metadata": {
  "kernelspec": {
   "display_name": "morpheus-spatial-ndDQRg-x-py3.9",
   "language": "python",
   "name": "python3"
  },
  "language_info": {
   "codemirror_mode": {
    "name": "ipython",
    "version": 3
   },
   "file_extension": ".py",
   "mimetype": "text/x-python",
   "name": "python",
   "nbconvert_exporter": "python",
   "pygments_lexer": "ipython3",
   "version": "3.9.18"
  }
 },
 "nbformat": 4,
 "nbformat_minor": 4
}
