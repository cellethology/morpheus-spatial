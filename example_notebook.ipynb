{
 "cells": [
  {
   "cell_type": "markdown",
   "metadata": {},
   "source": [
    "# Example IMC analysis with Morpheus"
   ]
  },
  {
   "cell_type": "markdown",
   "metadata": {},
   "source": [
    "## Step 0 (optional): set seed for reproducibility "
   ]
  },
  {
   "cell_type": "code",
   "execution_count": 1,
   "metadata": {},
   "outputs": [
    {
     "name": "stderr",
     "output_type": "stream",
     "text": [
      "Seed set to 42\n"
     ]
    }
   ],
   "source": [
    "from lightning.pytorch import seed_everything\n",
    "seed_everything(42)\n",
    "\n",
    "%reload_ext autoreload\n",
    "%autoreload 2"
   ]
  },
  {
   "cell_type": "markdown",
   "metadata": {},
   "source": [
    "## Step 1: Creating a SpatialDataset Object"
   ]
  },
  {
   "cell_type": "markdown",
   "metadata": {},
   "source": [
    "In this tutorial, we will start by creating a `SpatialDataset` object, which will hold all relevant information about the dataset we will be working with. \n",
    "\n",
    "### Prerequisites\n",
    "\n",
    "To create a `SpatialDataset` object, you will need:\n",
    "- The path to the CSV file containing all single-cell expression information\n",
    "- A list of channel names\n",
    "\n",
    "### CSV File Structure\n",
    "\n",
    "The expected structure of the CSV file is as follows:\n",
    "- Each row corresponds to a single cell\n",
    "- Columns for each channel name, with expression values specified\n",
    "- Five additional columns with the following names and information:\n",
    "\n",
    "| Column Name         | Description                               |\n",
    "|---------------------|-------------------------------------------|\n",
    "| `ImageNumber`       | Unique ID for each image                  |\n",
    "| `PatientID`         | Unique ID for each patient                |\n",
    "| `CellType`          | Cell type                                 |\n",
    "| `Location_Center_X` | X coordinate of the cell center in micron |\n",
    "| `Location_Center_Y` | Y coordinate of the cell center in micron |\n",
    "\n",
    "Note: Additional columns beyond these will not be used for the analysis performed in this tutorial.\n",
    "\n",
    "To create a `SpatialDataset` object, use the following code, remember to replace `'path/to/your/csv/file.csv'` with the actual path to your CSV file."
   ]
  },
  {
   "cell_type": "code",
   "execution_count": 2,
   "metadata": {},
   "outputs": [
    {
     "name": "stderr",
     "output_type": "stream",
     "text": [
      "2024-04-07 00:31:56.904960: I tensorflow/core/platform/cpu_feature_guard.cc:193] This TensorFlow binary is optimized with oneAPI Deep Neural Network Library (oneDNN) to use the following CPU instructions in performance-critical operations:  AVX2 FMA\n",
      "To enable them in other operations, rebuild TensorFlow with the appropriate compiler flags.\n",
      "2024-04-07 00:32:09.547885: W tensorflow/compiler/xla/stream_executor/platform/default/dso_loader.cc:64] Could not load dynamic library 'libnvinfer.so.7'; dlerror: libnvinfer.so.7: cannot open shared object file: No such file or directory; LD_LIBRARY_PATH: /central/home/zwang2/anaconda3/lib/python3.8/site-packages/nvidia/cudnn/:/central/slurm/install/current/lib/:\n",
      "2024-04-07 00:32:09.548524: W tensorflow/compiler/xla/stream_executor/platform/default/dso_loader.cc:64] Could not load dynamic library 'libnvinfer_plugin.so.7'; dlerror: libnvinfer_plugin.so.7: cannot open shared object file: No such file or directory; LD_LIBRARY_PATH: /central/home/zwang2/anaconda3/lib/python3.8/site-packages/nvidia/cudnn/:/central/slurm/install/current/lib/:\n",
      "2024-04-07 00:32:09.548539: W tensorflow/compiler/tf2tensorrt/utils/py_utils.cc:38] TF-TRT Warning: Cannot dlopen some TensorRT libraries. If you would like to use Nvidia GPU with TensorRT, please make sure the missing libraries mentioned above are installed properly.\n"
     ]
    },
    {
     "name": "stdout",
     "output_type": "stream",
     "text": [
      "Channel names inferred from input CSV: ['CD45', 'Glnsynthetase', 'CD163', 'NKG2D', 'CCR4', 'PDL1', 'FAP', 'CD11c', 'LAG3', 'HepPar1', 'FOXP3', 'aSMA', 'CD4', 'CD105endoglin', 'CD68', 'VISTA', 'CD20', 'CD8a', 'TIM3', 'CXCR4', 'PD1', 'iNOS', 'CD31', 'CYR61', 'CDX2', 'CAIX', 'CD3', 'CD44', 'CD15', 'CD11b', 'HLADR', 'IL10', 'CXCL12', 'HLAABC', 'DNA1', 'DNA2', 'GranzymeB', 'Ki67', 'HistoneH3', 'CXCR3', 'Galectin9', 'YAP', 'CD14', 'CK19']\n"
     ]
    }
   ],
   "source": [
    "import morpheus as mp\n",
    "\n",
    "data_path = \"/groups/mthomson/zwang2/IMC/output/cedarsLiver_sz48_pxl3_nc44/temp/singlecell.csv\"  # change to your own directory\n",
    "dataset = mp.SpatialDataset(input_path=data_path)"
   ]
  },
  {
   "cell_type": "markdown",
   "metadata": {},
   "source": [
    "## Step 2: patch images and mask cells"
   ]
  },
  {
   "cell_type": "code",
   "execution_count": 3,
   "metadata": {},
   "outputs": [
    {
     "name": "stdout",
     "output_type": "stream",
     "text": [
      "File /groups/mthomson/zwang2/IMC/output/cedarsLiver_sz48_pxl3_nc44/temp/patch.h5 already exists, not saving patches\n",
      "   patch_id  ImageNumber  PatientID  PatchIndex_X  PatchIndex_Y  \\\n",
      "0         0            2          2             0             0   \n",
      "1         1            2          2             0             1   \n",
      "2         2            2          2             0             2   \n",
      "3         3            2          2             0             3   \n",
      "4         4            2          2             0             4   \n",
      "\n",
      "   Contains_Tcytotoxic  Contains_Tumor  \n",
      "0                False            True  \n",
      "1                 True            True  \n",
      "2                False            True  \n",
      "3                 True           False  \n",
      "4                 True           False  \n"
     ]
    }
   ],
   "source": [
    "patch_size = 16  # Patch size in pixels\n",
    "pixel_size = 3  # Pixel size in microns\n",
    "cell_types = [\"Tcytotoxic\", \"Tumor\"]  # Specify the cell types of interest\n",
    "mask_cell_types = [\"Tcytotoxic\"]\n",
    "dataset.generate_masked_patch(\n",
    "    cell_to_mask=mask_cell_types,\n",
    "    cell_types=cell_types,\n",
    "    patch_size=patch_size,\n",
    "    pixel_size=pixel_size,\n",
    "    save=True,\n",
    ")\n",
    "\n",
    "# example metadata\n",
    "print(dataset.metadata.head())"
   ]
  },
  {
   "cell_type": "markdown",
   "metadata": {},
   "source": [
    "## Step 3: generate data splits for model training"
   ]
  },
  {
   "cell_type": "markdown",
   "metadata": {},
   "source": [
    "Next, we will need to generate train, validation, and test data splits for model training. We want to stratify our splits by the label we want to predict."
   ]
  },
  {
   "cell_type": "code",
   "execution_count": 4,
   "metadata": {},
   "outputs": [
    {
     "name": "stdout",
     "output_type": "stream",
     "text": [
      "Data splits already exist in /groups/mthomson/zwang2/IMC/output/cedarsLiver_sz48_pxl3_nc44/temp/split\n"
     ]
    }
   ],
   "source": [
    "colname = \"Contains_Tcytotoxic\"\n",
    "dataset.generate_data_splits(stratify_by=colname)"
   ]
  },
  {
   "cell_type": "markdown",
   "metadata": {},
   "source": [
    "## Step 4: train classifier model"
   ]
  },
  {
   "cell_type": "code",
   "execution_count": null,
   "metadata": {},
   "outputs": [],
   "source": [
    "# initialize model\n",
    "model_arch = \"unet\"\n",
    "n_channels = dataset.n_channels\n",
    "img_size = dataset.img_size\n",
    "model = mp.PatchClassifier(n_channels, img_size, model_arch)\n",
    "\n",
    "# train model\n",
    "trainer_params = {\n",
    "    \"max_epochs\": 100,  # set to >60 for better performance\n",
    "    \"accelerator\": \"auto\",\n",
    "    \"logger\": False,\n",
    "}\n",
    "model = mp.train(\n",
    "    model=model,\n",
    "    dataset=dataset,\n",
    "    label_name=colname,\n",
    "    trainer_params=trainer_params,\n",
    ")"
   ]
  },
  {
   "cell_type": "markdown",
   "metadata": {},
   "source": [
    "## Step 5: generate counterfactuals using trained classifier"
   ]
  },
  {
   "cell_type": "code",
   "execution_count": 26,
   "metadata": {},
   "outputs": [
    {
     "name": "stderr",
     "output_type": "stream",
     "text": [
      "Using cache found in /home/zwang2/.cache/torch/hub/mateuszbuda_brain-segmentation-pytorch_master\n"
     ]
    }
   ],
   "source": [
    "# load model if needed\n",
    "model = mp.load_model(dataset.model_dir + \"/checkpoints/epoch=41-step=12432.ckpt\")\n",
    "\n",
    "# images to generate counterfactuals\n",
    "dataset.get_split_info()\n",
    "select_metadata = dataset.metadata[\n",
    "    (dataset.metadata[\"Contains_Tumor\"] == 1)\n",
    "    & (dataset.metadata[\"Contains_Tcytotoxic\"] == 0)\n",
    "    & (dataset.metadata[\"splits\"] == \"train\")\n",
    "    & (dataset.metadata[\"ImageNumber\"] == 202)\n",
    "]"
   ]
  },
  {
   "cell_type": "code",
   "execution_count": 44,
   "metadata": {},
   "outputs": [
    {
     "name": "stderr",
     "output_type": "stream",
     "text": [
      "  0%|          | 1/209 [02:35<8:58:06, 155.23s/it]"
     ]
    },
    {
     "name": "stdout",
     "output_type": "stream",
     "text": [
      "Counterfactual probability: [0.28606406 0.7139359 ]\n",
      "cf perturbed: {'Glnsynthetase': 8.732989e-06, 'CCR4': -100.0, 'PDL1': -45.725613, 'LAG3': 6.373288e-06, 'CD105endoglin': 0.0, 'TIM3': 0.0, 'CXCR4': -100.0, 'PD1': -88.67476, 'CYR61': -91.752975, 'CD44': 9.093891e-06, 'IL10': 0.0, 'CXCL12': -100.0, 'CXCR3': 0.0, 'Galectin9': -9.089886e-06, 'YAP': 0.0}\n"
     ]
    },
    {
     "name": "stderr",
     "output_type": "stream",
     "text": [
      "  1%|          | 2/209 [05:09<8:53:18, 154.58s/it]"
     ]
    },
    {
     "name": "stdout",
     "output_type": "stream",
     "text": [
      "UserWarning: No counterfactual found!\n"
     ]
    },
    {
     "name": "stderr",
     "output_type": "stream",
     "text": [
      "  1%|▏         | 3/209 [07:45<8:53:33, 155.41s/it]"
     ]
    },
    {
     "name": "stdout",
     "output_type": "stream",
     "text": [
      "Counterfactual probability: [0.48096082 0.51903915]\n",
      "cf perturbed: {'Glnsynthetase': 0.0, 'CCR4': -7.966883e-06, 'PDL1': -8.6221435e-06, 'LAG3': 8.926197e-06, 'CD105endoglin': 0.0, 'TIM3': 1.1869174e-05, 'CXCR4': -60.871284, 'PD1': -22.581678, 'CYR61': 0.0, 'CD44': -0.6644316, 'IL10': 0.0, 'CXCL12': 0.0, 'CXCR3': -8.007229e-06, 'Galectin9': 0.0, 'YAP': -6.0159678e-06}\n"
     ]
    },
    {
     "name": "stderr",
     "output_type": "stream",
     "text": [
      "  2%|▏         | 4/209 [10:24<8:55:18, 156.67s/it]"
     ]
    },
    {
     "name": "stdout",
     "output_type": "stream",
     "text": [
      "Counterfactual probability: [0.48416984 0.5158301 ]\n",
      "cf perturbed: {'Glnsynthetase': 0.0, 'CCR4': -100.0, 'PDL1': 8.281851e-06, 'LAG3': 0.0, 'CD105endoglin': -8.959643e-06, 'TIM3': 0.0, 'CXCR4': -100.0, 'PD1': -80.750984, 'CYR61': -82.83974, 'CD44': 9.705386e-06, 'IL10': 0.0, 'CXCL12': 0.0, 'CXCR3': 0.0, 'Galectin9': 6.7487035e-06, 'YAP': 0.0}\n"
     ]
    },
    {
     "name": "stderr",
     "output_type": "stream",
     "text": [
      "  2%|▏         | 5/209 [13:00<8:52:31, 156.62s/it]"
     ]
    },
    {
     "name": "stdout",
     "output_type": "stream",
     "text": [
      "Counterfactual probability: [0.49151987 0.50848013]\n",
      "cf perturbed: {'Glnsynthetase': -9.510675e-06, 'CCR4': -89.145905, 'PDL1': -40.597984, 'LAG3': 7.245184e-06, 'CD105endoglin': 6.51082e-06, 'TIM3': 0.0, 'CXCR4': -100.0, 'PD1': -0.736226, 'CYR61': 0.0, 'CD44': 1.0648132e-05, 'IL10': -7.752366e-06, 'CXCL12': -1.09697585e-05, 'CXCR3': -1.11431655e-05, 'Galectin9': 0.0, 'YAP': 0.0}\n"
     ]
    },
    {
     "name": "stderr",
     "output_type": "stream",
     "text": [
      "  3%|▎         | 6/209 [15:42<8:56:03, 158.44s/it]"
     ]
    },
    {
     "name": "stdout",
     "output_type": "stream",
     "text": [
      "Counterfactual probability: [0.2846822  0.71531785]\n",
      "cf perturbed: {'Glnsynthetase': 0.0, 'CCR4': -100.0, 'PDL1': -59.001476, 'LAG3': 9.774197e-06, 'CD105endoglin': 0.0, 'TIM3': -82.025345, 'CXCR4': -100.0, 'PD1': -57.288273, 'CYR61': 0.0, 'CD44': 0.0, 'IL10': 0.0, 'CXCL12': 0.0, 'CXCR3': 0.0, 'Galectin9': -8.584179e-06, 'YAP': 0.0}\n"
     ]
    },
    {
     "name": "stderr",
     "output_type": "stream",
     "text": [
      "  3%|▎         | 7/209 [18:18<8:49:47, 157.36s/it]"
     ]
    },
    {
     "name": "stdout",
     "output_type": "stream",
     "text": [
      "Counterfactual probability: [0.49672037 0.5032797 ]\n",
      "cf perturbed: {'Glnsynthetase': 0.0, 'CCR4': -14.364791, 'PDL1': -100.0, 'LAG3': 0.0, 'CD105endoglin': 0.0, 'TIM3': -100.0, 'CXCR4': -100.0, 'PD1': 0.0, 'CYR61': -16.319902, 'CD44': 8.3690475e-06, 'IL10': 0.0, 'CXCL12': 0.0, 'CXCR3': -1.5610416e-05, 'Galectin9': -1.0594548e-05, 'YAP': 0.0}\n"
     ]
    },
    {
     "name": "stderr",
     "output_type": "stream",
     "text": [
      "  4%|▍         | 8/209 [20:51<8:43:05, 156.15s/it]"
     ]
    },
    {
     "name": "stdout",
     "output_type": "stream",
     "text": [
      "Counterfactual probability: [0.48398528 0.51601475]\n",
      "cf perturbed: {'Glnsynthetase': -8.45064e-06, 'CCR4': -100.0, 'PDL1': 1.4846293e-05, 'LAG3': 0.0, 'CD105endoglin': 0.0, 'TIM3': 0.0, 'CXCR4': -100.0, 'PD1': -63.95978, 'CYR61': -9.395812e-06, 'CD44': 6.5700547e-06, 'IL10': 0.0, 'CXCL12': -51.348732, 'CXCR3': 0.0, 'Galectin9': 0.0, 'YAP': 0.0}\n"
     ]
    },
    {
     "name": "stderr",
     "output_type": "stream",
     "text": [
      "  4%|▍         | 9/209 [23:30<8:43:33, 157.07s/it]"
     ]
    },
    {
     "name": "stdout",
     "output_type": "stream",
     "text": [
      "Counterfactual probability: [0.03008254 0.96991754]\n",
      "cf perturbed: {'Glnsynthetase': 0.0, 'CCR4': -100.0, 'PDL1': 0.0, 'LAG3': 0.0, 'CD105endoglin': 0.0, 'TIM3': -77.114685, 'CXCR4': -100.0, 'PD1': -100.0, 'CYR61': -100.0, 'CD44': 0.0, 'IL10': -100.0, 'CXCL12': -100.0, 'CXCR3': 0.0, 'Galectin9': 0.0, 'YAP': 43.93483}\n"
     ]
    },
    {
     "name": "stderr",
     "output_type": "stream",
     "text": [
      "  5%|▍         | 10/209 [26:07<8:41:06, 157.12s/it]"
     ]
    },
    {
     "name": "stdout",
     "output_type": "stream",
     "text": [
      "Counterfactual probability: [0.44717368 0.5528263 ]\n",
      "cf perturbed: {'Glnsynthetase': 9.445659e-06, 'CCR4': -100.0, 'PDL1': -21.721384, 'LAG3': 0.0, 'CD105endoglin': 5.9889326e-06, 'TIM3': -31.662413, 'CXCR4': -100.0, 'PD1': -52.286434, 'CYR61': -52.19662, 'CD44': 0.0, 'IL10': 1.0394908e-05, 'CXCL12': -30.474346, 'CXCR3': 0.0, 'Galectin9': -8.226355e-06, 'YAP': -8.622716e-06}\n",
      "Instance already classified as target class, no counterfactual needed\n"
     ]
    },
    {
     "name": "stderr",
     "output_type": "stream",
     "text": [
      "  6%|▌         | 12/209 [28:50<6:39:34, 121.70s/it]"
     ]
    },
    {
     "name": "stdout",
     "output_type": "stream",
     "text": [
      "Counterfactual probability: [0.01913389 0.9808661 ]\n",
      "cf perturbed: {'Glnsynthetase': 0.0, 'CCR4': -20.39391, 'PDL1': -77.60375, 'LAG3': 0.0, 'CD105endoglin': 6.8613067e-06, 'TIM3': 0.0, 'CXCR4': -100.0, 'PD1': -24.181717, 'CYR61': 0.0, 'CD44': 0.0, 'IL10': 0.0, 'CXCL12': 0.0, 'CXCR3': 0.0, 'Galectin9': -9.119925e-06, 'YAP': 6.373831e-06}\n",
      "Instance already classified as target class, no counterfactual needed\n"
     ]
    },
    {
     "name": "stderr",
     "output_type": "stream",
     "text": [
      "  7%|▋         | 14/209 [31:28<5:39:35, 104.49s/it]"
     ]
    },
    {
     "name": "stdout",
     "output_type": "stream",
     "text": [
      "UserWarning: No counterfactual found!\n"
     ]
    },
    {
     "name": "stderr",
     "output_type": "stream",
     "text": [
      "  7%|▋         | 15/209 [34:03<6:13:57, 115.66s/it]"
     ]
    },
    {
     "name": "stdout",
     "output_type": "stream",
     "text": [
      "Counterfactual probability: [0.48701414 0.5129859 ]\n",
      "cf perturbed: {'Glnsynthetase': 0.0, 'CCR4': -8.635758e-06, 'PDL1': -100.0, 'LAG3': 0.0, 'CD105endoglin': 0.0, 'TIM3': -13.54876, 'CXCR4': -100.0, 'PD1': 8.970684e-06, 'CYR61': -8.579528e-06, 'CD44': 0.0, 'IL10': 0.0, 'CXCL12': -52.501278, 'CXCR3': 31.560246, 'Galectin9': 0.0, 'YAP': 0.0}\n"
     ]
    },
    {
     "name": "stderr",
     "output_type": "stream",
     "text": [
      "  8%|▊         | 16/209 [36:44<6:47:45, 126.76s/it]"
     ]
    },
    {
     "name": "stdout",
     "output_type": "stream",
     "text": [
      "Counterfactual probability: [0.49527797 0.50472206]\n",
      "cf perturbed: {'Glnsynthetase': 1.6239006e-05, 'CCR4': -100.0, 'PDL1': -10.934428, 'LAG3': 16.023293, 'CD105endoglin': 0.0, 'TIM3': -14.918364, 'CXCR4': -100.0, 'PD1': 0.0, 'CYR61': 0.0, 'CD44': 0.0, 'IL10': -100.0, 'CXCL12': -6.2006457e-06, 'CXCR3': -9.479934e-06, 'Galectin9': 0.0, 'YAP': 18.467857}\n"
     ]
    },
    {
     "name": "stderr",
     "output_type": "stream",
     "text": [
      "  8%|▊         | 17/209 [39:24<7:12:59, 135.31s/it]"
     ]
    },
    {
     "name": "stdout",
     "output_type": "stream",
     "text": [
      "Counterfactual probability: [0.46219844 0.53780156]\n",
      "cf perturbed: {'Glnsynthetase': 0.0, 'CCR4': -79.59668, 'PDL1': 0.0, 'LAG3': 0.0, 'CD105endoglin': -6.9600483e-06, 'TIM3': -28.370687, 'CXCR4': -97.8998, 'PD1': -9.909339, 'CYR61': -0.107519396, 'CD44': 0.0, 'IL10': 0.0, 'CXCL12': -6.4866763e-06, 'CXCR3': 0.0, 'Galectin9': 0.0, 'YAP': -1.6804795e-05}\n"
     ]
    },
    {
     "name": "stderr",
     "output_type": "stream",
     "text": [
      "  9%|▊         | 18/209 [42:03<7:30:16, 141.45s/it]"
     ]
    },
    {
     "name": "stdout",
     "output_type": "stream",
     "text": [
      "Counterfactual probability: [4.063402e-04 9.995937e-01]\n",
      "cf perturbed: {'Glnsynthetase': 0.0, 'CCR4': -100.0, 'PDL1': -32.433865, 'LAG3': 0.0, 'CD105endoglin': 7.673831e-06, 'TIM3': -100.0, 'CXCR4': -100.0, 'PD1': -100.0, 'CYR61': -100.0, 'CD44': 0.0, 'IL10': -60.65857, 'CXCL12': -100.0, 'CXCR3': 0.0, 'Galectin9': -1.0558586e-05, 'YAP': 0.0}\n"
     ]
    },
    {
     "name": "stderr",
     "output_type": "stream",
     "text": [
      "  9%|▉         | 19/209 [44:40<7:42:16, 145.98s/it]"
     ]
    },
    {
     "name": "stdout",
     "output_type": "stream",
     "text": [
      "Counterfactual probability: [0.49371818 0.50628185]\n",
      "cf perturbed: {'Glnsynthetase': 0.0, 'CCR4': -100.0, 'PDL1': 6.2738636e-06, 'LAG3': -6.7152682e-06, 'CD105endoglin': 0.0, 'TIM3': -44.89122, 'CXCR4': -100.0, 'PD1': -91.6863, 'CYR61': -49.626724, 'CD44': 0.0, 'IL10': 0.0, 'CXCL12': -94.57318, 'CXCR3': -1.1401661e-05, 'Galectin9': -9.904628e-06, 'YAP': 0.0}\n"
     ]
    },
    {
     "name": "stderr",
     "output_type": "stream",
     "text": [
      " 10%|▉         | 20/209 [47:20<7:51:42, 149.75s/it]"
     ]
    },
    {
     "name": "stdout",
     "output_type": "stream",
     "text": [
      "Counterfactual probability: [0.10481445 0.89518553]\n",
      "cf perturbed: {'Glnsynthetase': 0.0, 'CCR4': -17.300964, 'PDL1': -87.07698, 'LAG3': 6.6389675e-06, 'CD105endoglin': 0.0, 'TIM3': -4.3645883, 'CXCR4': -100.0, 'PD1': -17.944921, 'CYR61': -6.860938e-06, 'CD44': 0.0, 'IL10': 0.0, 'CXCL12': -1.6219796e-05, 'CXCR3': 0.0, 'Galectin9': 0.0, 'YAP': 0.0}\n"
     ]
    },
    {
     "name": "stderr",
     "output_type": "stream",
     "text": [
      " 10%|█         | 21/209 [50:00<7:59:03, 152.89s/it]"
     ]
    },
    {
     "name": "stdout",
     "output_type": "stream",
     "text": [
      "Counterfactual probability: [0.42965955 0.57034045]\n",
      "cf perturbed: {'Glnsynthetase': 0.0, 'CCR4': -23.594065, 'PDL1': -40.550316, 'LAG3': 0.0, 'CD105endoglin': 1.7729395e-05, 'TIM3': -58.020245, 'CXCR4': -100.0, 'PD1': 9.169125e-06, 'CYR61': -73.89885, 'CD44': 0.0, 'IL10': 0.0, 'CXCL12': -6.6383727e-06, 'CXCR3': 0.0, 'Galectin9': 0.0, 'YAP': 6.0797497e-06}\n"
     ]
    },
    {
     "name": "stderr",
     "output_type": "stream",
     "text": [
      " 11%|█         | 22/209 [52:38<8:01:12, 154.40s/it]"
     ]
    },
    {
     "name": "stdout",
     "output_type": "stream",
     "text": [
      "Counterfactual probability: [0.32750586 0.6724941 ]\n",
      "cf perturbed: {'Glnsynthetase': 0.0, 'CCR4': -100.0, 'PDL1': -13.782552, 'LAG3': 0.0, 'CD105endoglin': 6.7270917e-06, 'TIM3': -61.963326, 'CXCR4': -100.0, 'PD1': 9.8368155e-06, 'CYR61': -1.0196932e-05, 'CD44': 6.290452e-06, 'IL10': -7.1419654e-06, 'CXCL12': 0.0, 'CXCR3': 0.0, 'Galectin9': 0.0, 'YAP': 35.21253}\n"
     ]
    },
    {
     "name": "stderr",
     "output_type": "stream",
     "text": [
      " 11%|█         | 23/209 [55:19<8:04:07, 156.17s/it]"
     ]
    },
    {
     "name": "stdout",
     "output_type": "stream",
     "text": [
      "Counterfactual probability: [0.40995067 0.59004927]\n",
      "cf perturbed: {'Glnsynthetase': -1.0859461e-05, 'CCR4': -100.0, 'PDL1': -62.74997, 'LAG3': -9.424145, 'CD105endoglin': 0.0, 'TIM3': -6.8885684e-06, 'CXCR4': -100.0, 'PD1': -74.80511, 'CYR61': -100.0, 'CD44': 0.0, 'IL10': 0.0, 'CXCL12': -100.0, 'CXCR3': 0.0, 'Galectin9': 0.0, 'YAP': 0.0}\n"
     ]
    },
    {
     "name": "stderr",
     "output_type": "stream",
     "text": [
      " 11%|█▏        | 24/209 [57:54<8:00:17, 155.77s/it]"
     ]
    },
    {
     "name": "stdout",
     "output_type": "stream",
     "text": [
      "Counterfactual probability: [0.09200518 0.9079948 ]\n",
      "cf perturbed: {'Glnsynthetase': 0.0, 'CCR4': -88.8043, 'PDL1': -100.0, 'LAG3': 0.0, 'CD105endoglin': 0.0, 'TIM3': -10.684756, 'CXCR4': -100.0, 'PD1': -46.330776, 'CYR61': -100.0, 'CD44': 1.0630321e-05, 'IL10': 0.0, 'CXCL12': -41.861458, 'CXCR3': 0.0, 'Galectin9': 0.0, 'YAP': -1.1591964e-05}\n",
      "Instance already classified as target class, no counterfactual needed\n"
     ]
    },
    {
     "name": "stderr",
     "output_type": "stream",
     "text": [
      " 12%|█▏        | 26/209 [1:00:27<6:04:42, 119.58s/it]"
     ]
    },
    {
     "name": "stdout",
     "output_type": "stream",
     "text": [
      "Counterfactual probability: [0.45440304 0.54559696]\n",
      "cf perturbed: {'Glnsynthetase': 1.076889e-05, 'CCR4': -7.3194096e-06, 'PDL1': 0.0, 'LAG3': 0.0, 'CD105endoglin': 0.0, 'TIM3': 0.0, 'CXCR4': -51.461147, 'PD1': -7.271237e-06, 'CYR61': -6.386089e-06, 'CD44': 0.0, 'IL10': -8.563698e-06, 'CXCL12': -6.0331295e-06, 'CXCR3': -1.1538216e-05, 'Galectin9': 0.0, 'YAP': 8.460603e-06}\n",
      "Instance already classified as target class, no counterfactual needed\n"
     ]
    },
    {
     "name": "stderr",
     "output_type": "stream",
     "text": [
      " 13%|█▎        | 28/209 [1:03:01<5:09:54, 102.73s/it]"
     ]
    },
    {
     "name": "stdout",
     "output_type": "stream",
     "text": [
      "Counterfactual probability: [9.6856727e-04 9.9903142e-01]\n",
      "cf perturbed: {'Glnsynthetase': 7.444824e-06, 'CCR4': 0.0, 'PDL1': 0.0, 'LAG3': -2.0573685e-05, 'CD105endoglin': 0.0, 'TIM3': 7.0695223e-06, 'CXCR4': -82.56641, 'PD1': 9.948698e-06, 'CYR61': 0.0, 'CD44': 8.080701e-06, 'IL10': 0.0, 'CXCL12': 0.0, 'CXCR3': 0.0, 'Galectin9': 0.0, 'YAP': 7.1140867e-06}\n"
     ]
    },
    {
     "name": "stderr",
     "output_type": "stream",
     "text": [
      " 14%|█▍        | 29/209 [1:05:36<5:42:20, 114.11s/it]"
     ]
    },
    {
     "name": "stdout",
     "output_type": "stream",
     "text": [
      "Counterfactual probability: [0.4982065 0.5017935]\n",
      "cf perturbed: {'Glnsynthetase': 9.031284e-06, 'CCR4': -9.905489, 'PDL1': -25.190193, 'LAG3': 6.261697e-06, 'CD105endoglin': 0.0, 'TIM3': 1.0169472e-05, 'CXCR4': -100.0, 'PD1': 0.0, 'CYR61': -22.011833, 'CD44': 0.0, 'IL10': 0.0, 'CXCL12': 0.0, 'CXCR3': -6.392596e-06, 'Galectin9': 0.0, 'YAP': 0.0}\n"
     ]
    },
    {
     "name": "stderr",
     "output_type": "stream",
     "text": [
      " 14%|█▍        | 30/209 [1:08:10<6:09:10, 123.75s/it]"
     ]
    },
    {
     "name": "stdout",
     "output_type": "stream",
     "text": [
      "Counterfactual probability: [0.47998175 0.5200183 ]\n",
      "cf perturbed: {'Glnsynthetase': -1.1425779e-05, 'CCR4': -16.885803, 'PDL1': -22.535793, 'LAG3': 0.0, 'CD105endoglin': 0.0, 'TIM3': 0.0, 'CXCR4': -81.20004, 'PD1': 0.0, 'CYR61': -10.736498, 'CD44': 8.267169e-06, 'IL10': 0.0, 'CXCL12': -1.132349e-05, 'CXCR3': 0.0, 'Galectin9': -6.225244e-06, 'YAP': 0.0}\n"
     ]
    },
    {
     "name": "stderr",
     "output_type": "stream",
     "text": [
      " 15%|█▍        | 31/209 [1:10:44<6:30:15, 131.55s/it]"
     ]
    },
    {
     "name": "stdout",
     "output_type": "stream",
     "text": [
      "Counterfactual probability: [0.01083197 0.98916805]\n",
      "cf perturbed: {'Glnsynthetase': -6.68865e-06, 'CCR4': -100.0, 'PDL1': 6.4697724e-06, 'LAG3': 144.22864, 'CD105endoglin': 209.178, 'TIM3': -42.652245, 'CXCR4': -100.0, 'PD1': -100.0, 'CYR61': -100.0, 'CD44': 0.0, 'IL10': 0.0, 'CXCL12': -100.0, 'CXCR3': -1.3728558e-05, 'Galectin9': 0.0, 'YAP': 67.531746}\n"
     ]
    },
    {
     "name": "stderr",
     "output_type": "stream",
     "text": [
      " 15%|█▌        | 32/209 [1:13:18<6:45:31, 137.47s/it]"
     ]
    },
    {
     "name": "stdout",
     "output_type": "stream",
     "text": [
      "Counterfactual probability: [0.4975456 0.5024544]\n",
      "cf perturbed: {'Glnsynthetase': 0.0, 'CCR4': -100.0, 'PDL1': -100.0, 'LAG3': 0.0, 'CD105endoglin': 0.0, 'TIM3': -100.0, 'CXCR4': -100.0, 'PD1': -89.2485, 'CYR61': -100.0, 'CD44': 0.0, 'IL10': -100.0, 'CXCL12': -7.4276577e-06, 'CXCR3': -1.272397e-05, 'Galectin9': 1.1071045e-05, 'YAP': 4.7298503}\n"
     ]
    },
    {
     "name": "stderr",
     "output_type": "stream",
     "text": [
      " 16%|█▌        | 33/209 [1:15:53<6:57:07, 142.20s/it]"
     ]
    },
    {
     "name": "stdout",
     "output_type": "stream",
     "text": [
      "Counterfactual probability: [0.33104733 0.6689527 ]\n",
      "cf perturbed: {'Glnsynthetase': 0.0, 'CCR4': -2.3290733e-05, 'PDL1': 1.4826557e-05, 'LAG3': 0.0, 'CD105endoglin': 2802.9424, 'TIM3': 8.638682e-06, 'CXCR4': 0.0, 'PD1': -1.5344196e-05, 'CYR61': 0.0, 'CD44': -8.088018e-06, 'IL10': 0.0, 'CXCL12': -1.9536204e-05, 'CXCR3': -9.113938e-06, 'Galectin9': 497.36057, 'YAP': 372.01108}\n"
     ]
    },
    {
     "name": "stderr",
     "output_type": "stream",
     "text": [
      " 16%|█▋        | 34/209 [1:18:33<7:09:49, 147.37s/it]"
     ]
    },
    {
     "name": "stdout",
     "output_type": "stream",
     "text": [
      "Counterfactual probability: [0.36583173 0.63416827]\n",
      "cf perturbed: {'Glnsynthetase': -6.265109e-06, 'CCR4': -100.0, 'PDL1': -27.152386, 'LAG3': 0.0, 'CD105endoglin': 1.150736e-05, 'TIM3': -46.560238, 'CXCR4': -100.0, 'PD1': -38.698467, 'CYR61': -64.8524, 'CD44': 0.0, 'IL10': -1.1438697e-05, 'CXCL12': -61.4993, 'CXCR3': 0.0, 'Galectin9': 0.0, 'YAP': -8.934436e-06}\n"
     ]
    },
    {
     "name": "stderr",
     "output_type": "stream",
     "text": [
      " 17%|█▋        | 35/209 [1:21:14<7:18:26, 151.19s/it]"
     ]
    },
    {
     "name": "stdout",
     "output_type": "stream",
     "text": [
      "Counterfactual probability: [0.48205504 0.51794493]\n",
      "cf perturbed: {'Glnsynthetase': 0.0, 'CCR4': -100.0, 'PDL1': 6.5383765e-06, 'LAG3': 6.779151e-06, 'CD105endoglin': 6.604196e-06, 'TIM3': -59.537327, 'CXCR4': -100.0, 'PD1': 0.0, 'CYR61': -7.195332e-06, 'CD44': 0.0, 'IL10': 0.0, 'CXCL12': 0.0, 'CXCR3': 0.0, 'Galectin9': 0.0, 'YAP': 8.033718e-06}\n"
     ]
    },
    {
     "name": "stderr",
     "output_type": "stream",
     "text": [
      " 17%|█▋        | 36/209 [1:23:52<7:21:37, 153.16s/it]"
     ]
    },
    {
     "name": "stdout",
     "output_type": "stream",
     "text": [
      "Counterfactual probability: [0.4868747 0.5131253]\n",
      "cf perturbed: {'Glnsynthetase': 1.00170555e-05, 'CCR4': -100.0, 'PDL1': 0.0, 'LAG3': 6.5188524e-06, 'CD105endoglin': 0.0, 'TIM3': -65.79067, 'CXCR4': -100.0, 'PD1': 1.2249557e-05, 'CYR61': -100.0, 'CD44': 1.1960188e-05, 'IL10': -9.565176e-06, 'CXCL12': -1.0243628e-05, 'CXCR3': 0.0, 'Galectin9': 0.0, 'YAP': 35.702545}\n"
     ]
    },
    {
     "name": "stderr",
     "output_type": "stream",
     "text": [
      " 18%|█▊        | 37/209 [1:26:31<7:24:14, 154.97s/it]"
     ]
    },
    {
     "name": "stdout",
     "output_type": "stream",
     "text": [
      "Counterfactual probability: [0.4964481  0.50355184]\n",
      "cf perturbed: {'Glnsynthetase': 0.0, 'CCR4': -100.0, 'PDL1': 8.3784425e-06, 'LAG3': 9.307554e-06, 'CD105endoglin': 0.0, 'TIM3': -14.6652775, 'CXCR4': -100.0, 'PD1': -40.868256, 'CYR61': 0.0, 'CD44': 0.0, 'IL10': 0.0, 'CXCL12': 0.0, 'CXCR3': -6.643922e-06, 'Galectin9': -6.1397336e-06, 'YAP': 6.431899e-06}\n"
     ]
    },
    {
     "name": "stderr",
     "output_type": "stream",
     "text": [
      " 18%|█▊        | 38/209 [1:29:12<7:26:17, 156.59s/it]"
     ]
    },
    {
     "name": "stdout",
     "output_type": "stream",
     "text": [
      "Counterfactual probability: [0.4683999 0.5316001]\n",
      "cf perturbed: {'Glnsynthetase': 0.0, 'CCR4': -100.0, 'PDL1': -100.0, 'LAG3': -2.2805516e-05, 'CD105endoglin': 149.04741, 'TIM3': -100.0, 'CXCR4': -100.0, 'PD1': -100.0, 'CYR61': -100.0, 'CD44': -1.4446826e-05, 'IL10': -2.3946453e-05, 'CXCL12': -3.214796e-05, 'CXCR3': -2.0657402e-05, 'Galectin9': 0.0, 'YAP': 9.673094e-06}\n"
     ]
    },
    {
     "name": "stderr",
     "output_type": "stream",
     "text": [
      " 19%|█▊        | 39/209 [1:31:46<7:21:57, 155.99s/it]"
     ]
    },
    {
     "name": "stdout",
     "output_type": "stream",
     "text": [
      "Counterfactual probability: [0.46698648 0.5330135 ]\n",
      "cf perturbed: {'Glnsynthetase': 8.7222015e-06, 'CCR4': 0.0, 'PDL1': -100.0, 'LAG3': 0.0, 'CD105endoglin': 46.641235, 'TIM3': -100.0, 'CXCR4': -100.0, 'PD1': 0.0, 'CYR61': 0.0, 'CD44': 9.6326685e-06, 'IL10': 0.0, 'CXCL12': 0.0, 'CXCR3': 357.74567, 'Galectin9': -9.745223e-06, 'YAP': 244.68224}\n"
     ]
    },
    {
     "name": "stderr",
     "output_type": "stream",
     "text": [
      " 19%|█▉        | 40/209 [1:34:20<7:17:53, 155.46s/it]"
     ]
    },
    {
     "name": "stdout",
     "output_type": "stream",
     "text": [
      "Counterfactual probability: [0.48354203 0.516458  ]\n",
      "cf perturbed: {'Glnsynthetase': -6.31038e-06, 'CCR4': -100.0, 'PDL1': 8.313043e-06, 'LAG3': 0.0, 'CD105endoglin': 0.0, 'TIM3': -88.348404, 'CXCR4': -100.0, 'PD1': -3.339445, 'CYR61': 0.0, 'CD44': 0.0, 'IL10': 0.0, 'CXCL12': 0.0, 'CXCR3': -1.35142445e-05, 'Galectin9': 0.0, 'YAP': 0.0}\n",
      "Instance already classified as target class, no counterfactual needed\n"
     ]
    },
    {
     "name": "stderr",
     "output_type": "stream",
     "text": [
      " 20%|██        | 42/209 [1:36:57<5:33:54, 119.96s/it]"
     ]
    },
    {
     "name": "stdout",
     "output_type": "stream",
     "text": [
      "Counterfactual probability: [0.36526746 0.63473254]\n",
      "cf perturbed: {'Glnsynthetase': 0.0, 'CCR4': -89.704865, 'PDL1': 0.0, 'LAG3': 0.0, 'CD105endoglin': -8.88822e-06, 'TIM3': 0.0, 'CXCR4': -65.15292, 'PD1': -7.374814, 'CYR61': 0.0, 'CD44': 7.6236274e-06, 'IL10': 0.0, 'CXCL12': 0.0, 'CXCR3': 0.0, 'Galectin9': -9.801628e-06, 'YAP': 0.0}\n"
     ]
    },
    {
     "name": "stderr",
     "output_type": "stream",
     "text": [
      " 21%|██        | 43/209 [1:39:36<5:58:42, 129.66s/it]"
     ]
    },
    {
     "name": "stdout",
     "output_type": "stream",
     "text": [
      "Counterfactual probability: [0.42439 0.57561]\n",
      "cf perturbed: {'Glnsynthetase': 3.4553374e-05, 'CCR4': -1.9684481e-05, 'PDL1': 2.0667545e-05, 'LAG3': 12.386182, 'CD105endoglin': 69.22291, 'TIM3': 0.0, 'CXCR4': 0.0, 'PD1': 0.0, 'CYR61': -3.094833e-05, 'CD44': 1.8392066e-05, 'IL10': 2.488248e-05, 'CXCL12': -2.0181451e-05, 'CXCR3': 1.9561456e-05, 'Galectin9': 0.0, 'YAP': 0.0}\n"
     ]
    },
    {
     "name": "stderr",
     "output_type": "stream",
     "text": [
      " 21%|██        | 44/209 [1:42:17<6:18:43, 137.72s/it]"
     ]
    },
    {
     "name": "stdout",
     "output_type": "stream",
     "text": [
      "Counterfactual probability: [0.34672534 0.6532746 ]\n",
      "cf perturbed: {'Glnsynthetase': 7.47158e-06, 'CCR4': -100.0, 'PDL1': -100.0, 'LAG3': -7.853498e-06, 'CD105endoglin': 8.071922e-06, 'TIM3': -20.74696, 'CXCR4': -100.0, 'PD1': -100.0, 'CYR61': -20.302177, 'CD44': 0.0, 'IL10': 0.0, 'CXCL12': -100.0, 'CXCR3': -1.1371999e-05, 'Galectin9': 1.0660648e-05, 'YAP': 0.0}\n"
     ]
    },
    {
     "name": "stderr",
     "output_type": "stream",
     "text": [
      " 22%|██▏       | 45/209 [1:44:53<6:30:02, 142.70s/it]"
     ]
    },
    {
     "name": "stdout",
     "output_type": "stream",
     "text": [
      "Counterfactual probability: [0.49764848 0.5023516 ]\n",
      "cf perturbed: {'Glnsynthetase': 0.0, 'CCR4': -2.0212703e-05, 'PDL1': -100.0, 'LAG3': 1.3152968e-05, 'CD105endoglin': 189.75703, 'TIM3': -14.961987, 'CXCR4': -100.0, 'PD1': 0.0, 'CYR61': 0.0, 'CD44': 0.0, 'IL10': -9.548942e-06, 'CXCL12': -1.7888688e-05, 'CXCR3': 0.0, 'Galectin9': -1.6567632e-05, 'YAP': 0.0}\n"
     ]
    },
    {
     "name": "stderr",
     "output_type": "stream",
     "text": [
      " 22%|██▏       | 46/209 [1:47:27<6:36:46, 146.05s/it]"
     ]
    },
    {
     "name": "stdout",
     "output_type": "stream",
     "text": [
      "Counterfactual probability: [0.48575 0.51425]\n",
      "cf perturbed: {'Glnsynthetase': 7.063141e-06, 'CCR4': -13.904106, 'PDL1': -43.465046, 'LAG3': 0.0, 'CD105endoglin': 0.0, 'TIM3': 0.0, 'CXCR4': -100.0, 'PD1': -34.57507, 'CYR61': 0.0, 'CD44': 7.1389977e-06, 'IL10': -6.8881754e-06, 'CXCL12': 0.0, 'CXCR3': -8.72151e-06, 'Galectin9': 0.0, 'YAP': 0.0}\n"
     ]
    },
    {
     "name": "stderr",
     "output_type": "stream",
     "text": [
      " 22%|██▏       | 47/209 [1:50:01<6:40:30, 148.34s/it]"
     ]
    },
    {
     "name": "stdout",
     "output_type": "stream",
     "text": [
      "Counterfactual probability: [0.27092186 0.7290782 ]\n",
      "cf perturbed: {'Glnsynthetase': 0.0, 'CCR4': -100.0, 'PDL1': -42.48269, 'LAG3': 6.434905e-06, 'CD105endoglin': -7.646584e-06, 'TIM3': -31.307823, 'CXCR4': -100.0, 'PD1': -100.0, 'CYR61': -100.0, 'CD44': 7.7482855e-06, 'IL10': 0.0, 'CXCL12': -50.75801, 'CXCR3': -9.911148e-06, 'Galectin9': 0.0, 'YAP': -8.498922e-06}\n"
     ]
    },
    {
     "name": "stderr",
     "output_type": "stream",
     "text": [
      " 23%|██▎       | 48/209 [1:52:36<6:43:02, 150.20s/it]"
     ]
    },
    {
     "name": "stdout",
     "output_type": "stream",
     "text": [
      "Counterfactual probability: [0.493093 0.506907]\n",
      "cf perturbed: {'Glnsynthetase': 6.0837683e-06, 'CCR4': -100.0, 'PDL1': -100.0, 'LAG3': 0.0, 'CD105endoglin': 0.0, 'TIM3': -100.0, 'CXCR4': -100.0, 'PD1': -30.79346, 'CYR61': -81.80317, 'CD44': 0.0, 'IL10': -1.2564573e-05, 'CXCL12': 0.0, 'CXCR3': -7.804793e-06, 'Galectin9': -5.979448e-06, 'YAP': 1.173951e-05}\n"
     ]
    },
    {
     "name": "stderr",
     "output_type": "stream",
     "text": [
      " 23%|██▎       | 49/209 [1:55:11<6:44:04, 151.53s/it]"
     ]
    },
    {
     "name": "stdout",
     "output_type": "stream",
     "text": [
      "Counterfactual probability: [0.05224426 0.94775575]\n",
      "cf perturbed: {'Glnsynthetase': 0.0, 'CCR4': -100.0, 'PDL1': 7.247027e-06, 'LAG3': 6.7640904e-06, 'CD105endoglin': 8.3344685e-06, 'TIM3': -100.0, 'CXCR4': -100.0, 'PD1': -100.0, 'CYR61': -100.0, 'CD44': -6.1251576e-06, 'IL10': -92.27777, 'CXCL12': -100.0, 'CXCR3': 0.0, 'Galectin9': -9.611198e-06, 'YAP': 75.93732}\n"
     ]
    },
    {
     "name": "stderr",
     "output_type": "stream",
     "text": [
      " 24%|██▍       | 50/209 [1:57:45<6:43:21, 152.21s/it]"
     ]
    },
    {
     "name": "stdout",
     "output_type": "stream",
     "text": [
      "Counterfactual probability: [0.47368276 0.5263173 ]\n",
      "cf perturbed: {'Glnsynthetase': 9.90985e-06, 'CCR4': -8.626505e-06, 'PDL1': 9.260104e-06, 'LAG3': -1.04347555e-05, 'CD105endoglin': 8.084849e-06, 'TIM3': 0.0, 'CXCR4': -77.02766, 'PD1': 8.382978e-06, 'CYR61': 0.0, 'CD44': 0.0, 'IL10': 0.0, 'CXCL12': 0.0, 'CXCR3': -7.2879507e-06, 'Galectin9': 0.0, 'YAP': 0.0}\n"
     ]
    },
    {
     "name": "stderr",
     "output_type": "stream",
     "text": [
      " 24%|██▍       | 51/209 [2:00:20<6:42:57, 153.02s/it]"
     ]
    },
    {
     "name": "stdout",
     "output_type": "stream",
     "text": [
      "Counterfactual probability: [0.45000717 0.5499928 ]\n",
      "cf perturbed: {'Glnsynthetase': 6.054856e-06, 'CCR4': -100.0, 'PDL1': -55.58282, 'LAG3': 0.0, 'CD105endoglin': 0.0, 'TIM3': -100.0, 'CXCR4': -100.0, 'PD1': -60.72021, 'CYR61': -100.0, 'CD44': 1.0493269e-05, 'IL10': 0.0, 'CXCL12': -23.338741, 'CXCR3': -7.1128648e-06, 'Galectin9': 0.0, 'YAP': -1.205327e-05}\n"
     ]
    },
    {
     "name": "stderr",
     "output_type": "stream",
     "text": [
      " 25%|██▍       | 52/209 [2:02:54<6:41:25, 153.41s/it]"
     ]
    },
    {
     "name": "stdout",
     "output_type": "stream",
     "text": [
      "Counterfactual probability: [0.48921582 0.5107842 ]\n",
      "cf perturbed: {'Glnsynthetase': -1.03206685e-05, 'CCR4': -1.3912328e-05, 'PDL1': -16.51515, 'LAG3': 7.168386e-06, 'CD105endoglin': 0.0, 'TIM3': -84.68076, 'CXCR4': -100.0, 'PD1': -16.1352, 'CYR61': 0.0, 'CD44': 1.1516883e-05, 'IL10': -8.029349e-06, 'CXCL12': -6.000467e-06, 'CXCR3': -1.2049293e-05, 'Galectin9': 0.0, 'YAP': -9.673379e-06}\n"
     ]
    },
    {
     "name": "stderr",
     "output_type": "stream",
     "text": [
      " 25%|██▌       | 53/209 [2:05:29<6:39:56, 153.82s/it]"
     ]
    },
    {
     "name": "stdout",
     "output_type": "stream",
     "text": [
      "Counterfactual probability: [3.7791715e-06 9.9999619e-01]\n",
      "cf perturbed: {'Glnsynthetase': 8.989496e-06, 'CCR4': -100.0, 'PDL1': -100.0, 'LAG3': 0.0, 'CD105endoglin': 0.0, 'TIM3': -100.0, 'CXCR4': -100.0, 'PD1': -100.0, 'CYR61': -100.0, 'CD44': 0.0, 'IL10': 0.0, 'CXCL12': 0.0, 'CXCR3': 0.0, 'Galectin9': 0.0, 'YAP': 0.0}\n"
     ]
    },
    {
     "name": "stderr",
     "output_type": "stream",
     "text": [
      " 26%|██▌       | 54/209 [2:08:08<6:41:21, 155.36s/it]"
     ]
    },
    {
     "name": "stdout",
     "output_type": "stream",
     "text": [
      "Counterfactual probability: [0.47741118 0.5225888 ]\n",
      "cf perturbed: {'Glnsynthetase': 8.646602e-06, 'CCR4': -100.0, 'PDL1': 0.0, 'LAG3': -1.0912704e-05, 'CD105endoglin': 34.29124, 'TIM3': 9.359971e-06, 'CXCR4': -100.0, 'PD1': -100.0, 'CYR61': -100.0, 'CD44': 0.0, 'IL10': -6.734331e-06, 'CXCL12': -100.0, 'CXCR3': 0.0, 'Galectin9': 0.0, 'YAP': -7.5504195e-06}\n"
     ]
    },
    {
     "name": "stderr",
     "output_type": "stream",
     "text": [
      " 26%|██▋       | 55/209 [2:10:47<6:41:33, 156.45s/it]"
     ]
    },
    {
     "name": "stdout",
     "output_type": "stream",
     "text": [
      "Counterfactual probability: [0.418056  0.5819439]\n",
      "cf perturbed: {'Glnsynthetase': -18.879185, 'CCR4': -100.0, 'PDL1': -100.0, 'LAG3': 5.9860417e-06, 'CD105endoglin': 142.39253, 'TIM3': -66.84829, 'CXCR4': -100.0, 'PD1': -100.0, 'CYR61': -100.0, 'CD44': 1.1184573e-05, 'IL10': -100.0, 'CXCL12': -100.0, 'CXCR3': -2.0229869e-05, 'Galectin9': 0.0, 'YAP': 7.9739075e-06}\n"
     ]
    },
    {
     "name": "stderr",
     "output_type": "stream",
     "text": [
      " 27%|██▋       | 56/209 [2:13:24<6:39:51, 156.81s/it]"
     ]
    },
    {
     "name": "stdout",
     "output_type": "stream",
     "text": [
      "Counterfactual probability: [0.48744324 0.51255673]\n",
      "cf perturbed: {'Glnsynthetase': -9.643191e-06, 'CCR4': -100.0, 'PDL1': -75.646194, 'LAG3': 0.0, 'CD105endoglin': 0.0, 'TIM3': -22.0269, 'CXCR4': -100.0, 'PD1': 7.744259e-06, 'CYR61': 0.0, 'CD44': 8.003902e-06, 'IL10': -1.2267974e-05, 'CXCL12': -9.868381e-06, 'CXCR3': 0.0, 'Galectin9': -1.0618035e-05, 'YAP': 0.0}\n",
      "Counterfactual probability: [0.47638232 0.5236177 ]\n",
      "cf perturbed: {'Glnsynthetase': 1.4549306e-05, 'CCR4': -7.4045995e-05, 'PDL1': -1.5241141e-05, 'LAG3': 1146.1581, 'CD105endoglin': 6317.8384, 'TIM3': 0.0, 'CXCR4': 7.0718335e-05, 'PD1': 0.0, 'CYR61': 4.9659535e-05, 'CD44': -2.179466e-05, 'IL10': -0.00012542818, 'CXCL12': 8.467366e-06, 'CXCR3': -5.110402e-05, 'Galectin9': 4.111575e-05, 'YAP': 2839.6875}\n"
     ]
    },
    {
     "name": "stderr",
     "output_type": "stream",
     "text": [
      " 27%|██▋       | 57/209 [2:16:09<6:42:52, 159.03s/it]"
     ]
    },
    {
     "name": "stdout",
     "output_type": "stream",
     "text": [
      "Instance already classified as target class, no counterfactual needed\n"
     ]
    },
    {
     "name": "stderr",
     "output_type": "stream",
     "text": [
      " 28%|██▊       | 59/209 [2:18:43<5:03:15, 121.30s/it]"
     ]
    },
    {
     "name": "stdout",
     "output_type": "stream",
     "text": [
      "Counterfactual probability: [0.49101764 0.50898236]\n",
      "cf perturbed: {'Glnsynthetase': 0.0, 'CCR4': -9.251543e-06, 'PDL1': 7.4527925e-06, 'LAG3': 0.0, 'CD105endoglin': 0.0, 'TIM3': 0.0, 'CXCR4': -100.0, 'PD1': -8.347571e-06, 'CYR61': -7.909713, 'CD44': 0.0, 'IL10': 0.0, 'CXCL12': 0.0, 'CXCR3': 0.0, 'Galectin9': 0.0, 'YAP': 0.0}\n",
      "Instance already classified as target class, no counterfactual needed\n"
     ]
    },
    {
     "name": "stderr",
     "output_type": "stream",
     "text": [
      " 29%|██▉       | 61/209 [2:21:18<4:16:30, 103.99s/it]"
     ]
    },
    {
     "name": "stdout",
     "output_type": "stream",
     "text": [
      "Counterfactual probability: [0.43184614 0.56815386]\n",
      "cf perturbed: {'Glnsynthetase': 0.0, 'CCR4': -100.0, 'PDL1': 6.728087e-06, 'LAG3': 0.0, 'CD105endoglin': -1.0603681e-05, 'TIM3': 0.0, 'CXCR4': -100.0, 'PD1': -100.0, 'CYR61': -100.0, 'CD44': 7.0758774e-06, 'IL10': 0.0, 'CXCL12': -100.0, 'CXCR3': -1.0770222e-05, 'Galectin9': 0.0, 'YAP': 8.755007e-06}\n"
     ]
    },
    {
     "name": "stderr",
     "output_type": "stream",
     "text": [
      " 30%|██▉       | 62/209 [2:23:54<4:42:46, 115.42s/it]"
     ]
    },
    {
     "name": "stdout",
     "output_type": "stream",
     "text": [
      "Counterfactual probability: [0.4737987 0.5262013]\n",
      "cf perturbed: {'Glnsynthetase': -8.304578e-06, 'CCR4': -44.46375, 'PDL1': -58.04602, 'LAG3': 0.0, 'CD105endoglin': 6.6375433e-06, 'TIM3': 9.249146e-06, 'CXCR4': -100.0, 'PD1': -15.701385, 'CYR61': -89.39637, 'CD44': -6.7550864e-06, 'IL10': 0.0, 'CXCL12': -1.0338491e-05, 'CXCR3': 0.0, 'Galectin9': -8.543052e-06, 'YAP': 0.0}\n"
     ]
    },
    {
     "name": "stderr",
     "output_type": "stream",
     "text": [
      " 30%|███       | 63/209 [2:26:29<5:03:46, 124.84s/it]"
     ]
    },
    {
     "name": "stdout",
     "output_type": "stream",
     "text": [
      "Counterfactual probability: [0.48632047 0.5136795 ]\n",
      "cf perturbed: {'Glnsynthetase': 0.0, 'CCR4': -100.0, 'PDL1': -100.0, 'LAG3': 1.0194396e-05, 'CD105endoglin': 0.0, 'TIM3': -100.0, 'CXCR4': -100.0, 'PD1': 0.0, 'CYR61': -100.0, 'CD44': 0.0, 'IL10': -6.6604493e-06, 'CXCL12': -100.0, 'CXCR3': 0.0, 'Galectin9': -25.975769, 'YAP': 27.15532}\n"
     ]
    },
    {
     "name": "stderr",
     "output_type": "stream",
     "text": [
      " 31%|███       | 64/209 [2:29:04<5:20:10, 132.48s/it]"
     ]
    },
    {
     "name": "stdout",
     "output_type": "stream",
     "text": [
      "Counterfactual probability: [0.45073086 0.54926914]\n",
      "cf perturbed: {'Glnsynthetase': 0.0, 'CCR4': -100.0, 'PDL1': -26.456812, 'LAG3': 5.9779404e-06, 'CD105endoglin': 6.205283e-06, 'TIM3': -8.597999e-06, 'CXCR4': -100.0, 'PD1': -70.072464, 'CYR61': -100.0, 'CD44': 0.0, 'IL10': 0.0, 'CXCL12': -94.44998, 'CXCR3': -1.0458794e-05, 'Galectin9': -8.350553e-06, 'YAP': 0.0}\n"
     ]
    },
    {
     "name": "stderr",
     "output_type": "stream",
     "text": [
      " 31%|███       | 65/209 [2:31:38<5:32:12, 138.42s/it]"
     ]
    },
    {
     "name": "stdout",
     "output_type": "stream",
     "text": [
      "Counterfactual probability: [0.4963687 0.5036313]\n",
      "cf perturbed: {'Glnsynthetase': 0.0, 'CCR4': -1.4914359e-05, 'PDL1': 0.0, 'LAG3': 0.0, 'CD105endoglin': 0.0, 'TIM3': 0.0, 'CXCR4': -33.78347, 'PD1': -9.685451e-06, 'CYR61': 0.0, 'CD44': -6.8100803e-06, 'IL10': 0.0, 'CXCL12': -8.033205e-06, 'CXCR3': 0.0, 'Galectin9': 0.0, 'YAP': 0.0}\n"
     ]
    },
    {
     "name": "stderr",
     "output_type": "stream",
     "text": [
      " 32%|███▏      | 66/209 [2:34:14<5:41:07, 143.13s/it]"
     ]
    },
    {
     "name": "stdout",
     "output_type": "stream",
     "text": [
      "Counterfactual probability: [0.49288607 0.50711393]\n",
      "cf perturbed: {'Glnsynthetase': 0.0, 'CCR4': -100.0, 'PDL1': 5.964825e-06, 'LAG3': 0.0, 'CD105endoglin': 0.0, 'TIM3': -21.708935, 'CXCR4': -100.0, 'PD1': -44.449394, 'CYR61': 0.0, 'CD44': 7.5646944e-06, 'IL10': -1.5208158e-05, 'CXCL12': 0.0, 'CXCR3': -9.021554e-06, 'Galectin9': -1.0209556e-05, 'YAP': 0.0}\n"
     ]
    },
    {
     "name": "stderr",
     "output_type": "stream",
     "text": [
      " 32%|███▏      | 67/209 [2:36:50<5:47:24, 146.80s/it]"
     ]
    },
    {
     "name": "stdout",
     "output_type": "stream",
     "text": [
      "Counterfactual probability: [0.40910545 0.5908945 ]\n",
      "cf perturbed: {'Glnsynthetase': -1.1360844e-05, 'CCR4': -100.0, 'PDL1': -55.750614, 'LAG3': 8.874595e-06, 'CD105endoglin': 9.184837e-06, 'TIM3': -94.80315, 'CXCR4': -100.0, 'PD1': -6.1742635, 'CYR61': -9.784716e-06, 'CD44': -9.430551e-06, 'IL10': -1.0971941e-05, 'CXCL12': -1.3201963e-05, 'CXCR3': -7.476207e-06, 'Galectin9': 0.0, 'YAP': 5.9604654e-06}\n"
     ]
    },
    {
     "name": "stderr",
     "output_type": "stream",
     "text": [
      " 33%|███▎      | 68/209 [2:39:25<5:50:43, 149.24s/it]"
     ]
    },
    {
     "name": "stdout",
     "output_type": "stream",
     "text": [
      "Counterfactual probability: [0.31185445 0.6881455 ]\n",
      "cf perturbed: {'Glnsynthetase': 0.0, 'CCR4': -100.0, 'PDL1': -100.0, 'LAG3': -23.515253, 'CD105endoglin': 0.0, 'TIM3': -100.0, 'CXCR4': -100.0, 'PD1': -100.0, 'CYR61': 0.0, 'CD44': 0.0, 'IL10': 0.0, 'CXCL12': -9.288184e-06, 'CXCR3': -1.1545228e-05, 'Galectin9': 0.0, 'YAP': 49.631725}\n"
     ]
    },
    {
     "name": "stderr",
     "output_type": "stream",
     "text": [
      " 33%|███▎      | 69/209 [2:42:01<5:52:51, 151.22s/it]"
     ]
    },
    {
     "name": "stdout",
     "output_type": "stream",
     "text": [
      "Counterfactual probability: [0.4459145 0.5540855]\n",
      "cf perturbed: {'Glnsynthetase': 0.0, 'CCR4': -100.0, 'PDL1': -3.9689, 'LAG3': 0.0, 'CD105endoglin': 82.25925, 'TIM3': -68.95617, 'CXCR4': -100.0, 'PD1': -100.0, 'CYR61': -100.0, 'CD44': 0.0, 'IL10': 0.0, 'CXCL12': -100.0, 'CXCR3': 0.0, 'Galectin9': 0.0, 'YAP': -6.7665032e-06}\n"
     ]
    },
    {
     "name": "stderr",
     "output_type": "stream",
     "text": [
      " 33%|███▎      | 70/209 [2:44:36<5:52:28, 152.15s/it]"
     ]
    },
    {
     "name": "stdout",
     "output_type": "stream",
     "text": [
      "Counterfactual probability: [0.41013223 0.58986783]\n",
      "cf perturbed: {'Glnsynthetase': 0.0, 'CCR4': -100.0, 'PDL1': -10.006651, 'LAG3': 0.0, 'CD105endoglin': 0.0, 'TIM3': -9.192798, 'CXCR4': -100.0, 'PD1': -28.476986, 'CYR61': -50.153286, 'CD44': -6.5728045e-06, 'IL10': -1.4495953e-05, 'CXCL12': 0.0, 'CXCR3': 0.0, 'Galectin9': 0.0, 'YAP': 0.0}\n",
      "Counterfactual probability: [0.48006716 0.51993287]\n",
      "cf perturbed: {'Glnsynthetase': -1.2389155e-05, 'CCR4': -100.0, 'PDL1': -91.42222, 'LAG3': -9.639907e-06, 'CD105endoglin': 1.1483895e-05, 'TIM3': -63.88586, 'CXCR4': -100.0, 'PD1': -23.118954, 'CYR61': -100.0, 'CD44': 6.348719e-06, 'IL10': -1.2568413e-05, 'CXCL12': -74.64041, 'CXCR3': -9.437053e-06, 'Galectin9': -7.371199e-06, 'YAP': 6.4639275e-06}\n"
     ]
    },
    {
     "name": "stderr",
     "output_type": "stream",
     "text": [
      " 34%|███▍      | 72/209 [2:49:55<5:55:11, 155.56s/it]"
     ]
    },
    {
     "name": "stdout",
     "output_type": "stream",
     "text": [
      "Counterfactual probability: [0.07133193 0.928668  ]\n",
      "cf perturbed: {'Glnsynthetase': 0.0, 'CCR4': -6.3355137e-06, 'PDL1': -8.592286e-06, 'LAG3': 8.715692e-06, 'CD105endoglin': 1.0350423e-05, 'TIM3': 0.0, 'CXCR4': -100.0, 'PD1': -49.877377, 'CYR61': -1.1543432e-05, 'CD44': 0.0, 'IL10': -8.761878e-06, 'CXCL12': 6.551606e-06, 'CXCR3': 0.0, 'Galectin9': 0.0, 'YAP': 1.1768745e-05}\n"
     ]
    },
    {
     "name": "stderr",
     "output_type": "stream",
     "text": [
      " 35%|███▍      | 73/209 [2:52:30<5:52:15, 155.41s/it]"
     ]
    },
    {
     "name": "stdout",
     "output_type": "stream",
     "text": [
      "Counterfactual probability: [0.47675577 0.5232442 ]\n",
      "cf perturbed: {'Glnsynthetase': 0.0, 'CCR4': -8.913559e-06, 'PDL1': -55.434746, 'LAG3': -9.241068e-06, 'CD105endoglin': 0.0, 'TIM3': 6.6192947e-06, 'CXCR4': -100.0, 'PD1': 1.6684038e-05, 'CYR61': 0.0, 'CD44': 1.0370735e-05, 'IL10': 0.0, 'CXCL12': -1.5374058e-05, 'CXCR3': 0.0, 'Galectin9': 0.0, 'YAP': 0.0}\n"
     ]
    },
    {
     "name": "stderr",
     "output_type": "stream",
     "text": [
      " 35%|███▌      | 74/209 [2:55:06<5:50:05, 155.60s/it]"
     ]
    },
    {
     "name": "stdout",
     "output_type": "stream",
     "text": [
      "Counterfactual probability: [0.49940777 0.50059223]\n",
      "cf perturbed: {'Glnsynthetase': 0.0, 'CCR4': 0.0, 'PDL1': -84.74675, 'LAG3': 0.0, 'CD105endoglin': 0.0, 'TIM3': 9.10398e-06, 'CXCR4': 0.0, 'PD1': 8.22555e-06, 'CYR61': 7.495479e-06, 'CD44': -1.1166167e-05, 'IL10': -6.2253157e-06, 'CXCL12': -8.382996e-06, 'CXCR3': -1.1649073e-05, 'Galectin9': 0.0, 'YAP': 50.91244}\n"
     ]
    },
    {
     "name": "stderr",
     "output_type": "stream",
     "text": [
      " 36%|███▌      | 75/209 [2:57:44<5:49:17, 156.40s/it]"
     ]
    },
    {
     "name": "stdout",
     "output_type": "stream",
     "text": [
      "Counterfactual probability: [0.47278932 0.5272107 ]\n",
      "cf perturbed: {'Glnsynthetase': 1.0732845e-05, 'CCR4': -7.827357e-06, 'PDL1': -6.853812, 'LAG3': -7.9215715e-06, 'CD105endoglin': 45.99899, 'TIM3': 0.0, 'CXCR4': -99.872696, 'PD1': 0.0, 'CYR61': 0.0, 'CD44': 9.4579955e-06, 'IL10': 7.632535e-06, 'CXCL12': 0.0, 'CXCR3': 0.0, 'Galectin9': -1.1974145e-05, 'YAP': 0.0}\n",
      "Instance already classified as target class, no counterfactual needed\n"
     ]
    },
    {
     "name": "stderr",
     "output_type": "stream",
     "text": [
      " 37%|███▋      | 77/209 [3:00:23<4:25:46, 120.80s/it]"
     ]
    },
    {
     "name": "stdout",
     "output_type": "stream",
     "text": [
      "Counterfactual probability: [0.4934221 0.5065779]\n",
      "cf perturbed: {'Glnsynthetase': 0.0, 'CCR4': -72.175964, 'PDL1': -62.09922, 'LAG3': -1.1274699e-05, 'CD105endoglin': 0.0, 'TIM3': -1.4562392e-05, 'CXCR4': -100.0, 'PD1': 9.975405e-06, 'CYR61': 0.0, 'CD44': 0.0, 'IL10': -5.545334, 'CXCL12': 0.0, 'CXCR3': -7.797466e-06, 'Galectin9': 0.0, 'YAP': 0.0}\n"
     ]
    },
    {
     "name": "stderr",
     "output_type": "stream",
     "text": [
      " 37%|███▋      | 78/209 [3:03:00<4:43:21, 129.78s/it]"
     ]
    },
    {
     "name": "stdout",
     "output_type": "stream",
     "text": [
      "Counterfactual probability: [0.4931343 0.5068657]\n",
      "cf perturbed: {'Glnsynthetase': 0.0, 'CCR4': -38.42007, 'PDL1': -32.957325, 'LAG3': -8.034682e-06, 'CD105endoglin': -6.3162447e-06, 'TIM3': -100.0, 'CXCR4': -100.0, 'PD1': -31.120905, 'CYR61': -59.179264, 'CD44': -6.501579e-06, 'IL10': -6.3924504e-06, 'CXCL12': 0.0, 'CXCR3': -6.565061e-06, 'Galectin9': 0.0, 'YAP': 0.0}\n",
      "Instance already classified as target class, no counterfactual needed\n"
     ]
    },
    {
     "name": "stderr",
     "output_type": "stream",
     "text": [
      " 38%|███▊      | 80/209 [3:05:35<3:52:23, 108.09s/it]"
     ]
    },
    {
     "name": "stdout",
     "output_type": "stream",
     "text": [
      "Counterfactual probability: [0.3811927 0.6188073]\n",
      "cf perturbed: {'Glnsynthetase': -1.3912204e-05, 'CCR4': -100.0, 'PDL1': -100.0, 'LAG3': 0.0, 'CD105endoglin': 0.0, 'TIM3': -44.044594, 'CXCR4': -100.0, 'PD1': -8.524536, 'CYR61': 0.0, 'CD44': 0.0, 'IL10': -1.1065028e-05, 'CXCL12': -4.014558, 'CXCR3': 0.0, 'Galectin9': -1.7151468e-05, 'YAP': 0.0}\n"
     ]
    },
    {
     "name": "stderr",
     "output_type": "stream",
     "text": [
      " 39%|███▉      | 81/209 [3:08:09<4:13:14, 118.71s/it]"
     ]
    },
    {
     "name": "stdout",
     "output_type": "stream",
     "text": [
      "Counterfactual probability: [0.15322046 0.8467795 ]\n",
      "cf perturbed: {'Glnsynthetase': 0.0, 'CCR4': -15.942809, 'PDL1': -26.876808, 'LAG3': 7.0492015e-06, 'CD105endoglin': -9.688358e-06, 'TIM3': -6.901788e-06, 'CXCR4': -100.0, 'PD1': 7.590664e-06, 'CYR61': -100.0, 'CD44': 0.0, 'IL10': 0.0, 'CXCL12': 9.39002e-06, 'CXCR3': 1.0958385e-05, 'Galectin9': 0.0, 'YAP': 0.0}\n"
     ]
    },
    {
     "name": "stderr",
     "output_type": "stream",
     "text": [
      " 39%|███▉      | 82/209 [3:10:43<4:29:42, 127.42s/it]"
     ]
    },
    {
     "name": "stdout",
     "output_type": "stream",
     "text": [
      "Counterfactual probability: [0.13892256 0.8610775 ]\n",
      "cf perturbed: {'Glnsynthetase': 0.0, 'CCR4': -69.29565, 'PDL1': -100.0, 'LAG3': 1.1654801e-05, 'CD105endoglin': 0.0, 'TIM3': -34.403667, 'CXCR4': -100.0, 'PD1': -95.324036, 'CYR61': -1.0151159e-05, 'CD44': 1.7065333e-05, 'IL10': -8.493998e-06, 'CXCL12': 0.0, 'CXCR3': 0.0, 'Galectin9': 0.0, 'YAP': 0.0}\n"
     ]
    },
    {
     "name": "stderr",
     "output_type": "stream",
     "text": [
      " 40%|███▉      | 83/209 [3:13:19<4:43:00, 134.77s/it]"
     ]
    },
    {
     "name": "stdout",
     "output_type": "stream",
     "text": [
      "Counterfactual probability: [0.48301467 0.5169853 ]\n",
      "cf perturbed: {'Glnsynthetase': 1.1886887e-05, 'CCR4': -100.0, 'PDL1': -37.599762, 'LAG3': 6.5133995e-06, 'CD105endoglin': 0.0, 'TIM3': 0.0, 'CXCR4': -100.0, 'PD1': 1.4344482e-05, 'CYR61': -100.0, 'CD44': 1.0851329e-05, 'IL10': -6.3972684e-06, 'CXCL12': 6.180479e-06, 'CXCR3': 0.0, 'Galectin9': -1.9181318e-05, 'YAP': -1.02107e-05}\n"
     ]
    },
    {
     "name": "stderr",
     "output_type": "stream",
     "text": [
      " 40%|████      | 84/209 [3:15:54<4:52:08, 140.23s/it]"
     ]
    },
    {
     "name": "stdout",
     "output_type": "stream",
     "text": [
      "Counterfactual probability: [0.29741552 0.7025845 ]\n",
      "cf perturbed: {'Glnsynthetase': 0.0, 'CCR4': -100.0, 'PDL1': -71.8635, 'LAG3': 0.0, 'CD105endoglin': 0.0, 'TIM3': -32.811386, 'CXCR4': -100.0, 'PD1': -70.45767, 'CYR61': -100.0, 'CD44': 0.0, 'IL10': -1.0796134e-05, 'CXCL12': -100.0, 'CXCR3': -8.471186e-06, 'Galectin9': 0.0, 'YAP': 0.0}\n"
     ]
    },
    {
     "name": "stderr",
     "output_type": "stream",
     "text": [
      " 41%|████      | 85/209 [3:18:29<4:58:31, 144.45s/it]"
     ]
    },
    {
     "name": "stdout",
     "output_type": "stream",
     "text": [
      "Counterfactual probability: [0.49340555 0.5065945 ]\n",
      "cf perturbed: {'Glnsynthetase': 0.0, 'CCR4': -100.0, 'PDL1': -100.0, 'LAG3': -77.25077, 'CD105endoglin': 0.0, 'TIM3': -97.45683, 'CXCR4': -100.0, 'PD1': -58.131313, 'CYR61': -53.676212, 'CD44': 0.0, 'IL10': 0.0, 'CXCL12': 8.556939e-06, 'CXCR3': 32.211216, 'Galectin9': 0.0, 'YAP': 68.56669}\n",
      "Instance already classified as target class, no counterfactual needed\n"
     ]
    },
    {
     "name": "stderr",
     "output_type": "stream",
     "text": [
      " 42%|████▏     | 87/209 [3:21:04<3:53:11, 114.68s/it]"
     ]
    },
    {
     "name": "stdout",
     "output_type": "stream",
     "text": [
      "Counterfactual probability: [0.03467755 0.9653225 ]\n",
      "cf perturbed: {'Glnsynthetase': -100.0, 'CCR4': -100.0, 'PDL1': -100.0, 'LAG3': -100.0, 'CD105endoglin': 7208.911, 'TIM3': -100.0, 'CXCR4': -100.0, 'PD1': -100.0, 'CYR61': -100.0, 'CD44': -99.999985, 'IL10': -100.0, 'CXCL12': -100.0, 'CXCR3': -100.0, 'Galectin9': -100.0, 'YAP': 2073.8352}\n"
     ]
    },
    {
     "name": "stderr",
     "output_type": "stream",
     "text": [
      " 42%|████▏     | 88/209 [3:23:39<4:11:06, 124.52s/it]"
     ]
    },
    {
     "name": "stdout",
     "output_type": "stream",
     "text": [
      "Counterfactual probability: [0.49920097 0.500799  ]\n",
      "cf perturbed: {'Glnsynthetase': 0.0, 'CCR4': -100.0, 'PDL1': -57.110786, 'LAG3': -3.658888, 'CD105endoglin': 0.0, 'TIM3': -22.262726, 'CXCR4': -100.0, 'PD1': -62.746418, 'CYR61': -100.0, 'CD44': 8.236966e-06, 'IL10': 0.0, 'CXCL12': -52.211678, 'CXCR3': -7.933678e-06, 'Galectin9': 0.0, 'YAP': 0.0}\n"
     ]
    },
    {
     "name": "stderr",
     "output_type": "stream",
     "text": [
      " 43%|████▎     | 89/209 [3:26:14<4:24:34, 132.29s/it]"
     ]
    },
    {
     "name": "stdout",
     "output_type": "stream",
     "text": [
      "Counterfactual probability: [0.30050159 0.6994984 ]\n",
      "cf perturbed: {'Glnsynthetase': 0.0, 'CCR4': -100.0, 'PDL1': -100.0, 'LAG3': 6.242604e-06, 'CD105endoglin': -6.0704124e-06, 'TIM3': 7.907961e-06, 'CXCR4': -100.0, 'PD1': -100.0, 'CYR61': -100.0, 'CD44': 1.4777412e-05, 'IL10': -100.0, 'CXCL12': -100.0, 'CXCR3': -100.0, 'Galectin9': -57.29245, 'YAP': -11.157041}\n"
     ]
    },
    {
     "name": "stderr",
     "output_type": "stream",
     "text": [
      " 43%|████▎     | 90/209 [3:28:49<4:34:15, 138.29s/it]"
     ]
    },
    {
     "name": "stdout",
     "output_type": "stream",
     "text": [
      "Counterfactual probability: [0.49712795 0.50287205]\n",
      "cf perturbed: {'Glnsynthetase': 0.0, 'CCR4': -18.295696, 'PDL1': -75.03846, 'LAG3': -9.556993e-06, 'CD105endoglin': 1.1398286e-05, 'TIM3': 0.0, 'CXCR4': -100.0, 'PD1': 0.0, 'CYR61': -1.0414369e-05, 'CD44': 0.0, 'IL10': 0.0, 'CXCL12': 8.3368595e-06, 'CXCR3': -6.826796e-06, 'Galectin9': 0.0, 'YAP': 0.0}\n"
     ]
    },
    {
     "name": "stderr",
     "output_type": "stream",
     "text": [
      " 44%|████▎     | 91/209 [3:31:24<4:41:05, 142.93s/it]"
     ]
    },
    {
     "name": "stdout",
     "output_type": "stream",
     "text": [
      "Counterfactual probability: [0.15354611 0.8464539 ]\n",
      "cf perturbed: {'Glnsynthetase': -6.7950623e-06, 'CCR4': -100.0, 'PDL1': -2.040924, 'LAG3': -6.1256137e-06, 'CD105endoglin': 0.0, 'TIM3': -100.0, 'CXCR4': -100.0, 'PD1': -100.0, 'CYR61': -100.0, 'CD44': 7.2314656e-06, 'IL10': -100.0, 'CXCL12': -100.0, 'CXCR3': 0.0, 'Galectin9': -9.919325e-06, 'YAP': 79.37788}\n"
     ]
    },
    {
     "name": "stderr",
     "output_type": "stream",
     "text": [
      " 44%|████▍     | 92/209 [3:34:00<4:45:47, 146.56s/it]"
     ]
    },
    {
     "name": "stdout",
     "output_type": "stream",
     "text": [
      "Counterfactual probability: [0.01467411 0.9853258 ]\n",
      "cf perturbed: {'Glnsynthetase': 0.0, 'CCR4': -6.9642033e-06, 'PDL1': -61.53428, 'LAG3': 0.0, 'CD105endoglin': 8.905242e-06, 'TIM3': 0.0, 'CXCR4': -100.0, 'PD1': -100.0, 'CYR61': 0.0, 'CD44': 1.2615253e-05, 'IL10': -1.9324438e-05, 'CXCL12': -86.73698, 'CXCR3': 0.0, 'Galectin9': -1.0066075e-05, 'YAP': 19.315935}\n",
      "Instance already classified as target class, no counterfactual needed\n"
     ]
    },
    {
     "name": "stderr",
     "output_type": "stream",
     "text": [
      " 45%|████▍     | 94/209 [3:36:34<3:41:31, 115.57s/it]"
     ]
    },
    {
     "name": "stdout",
     "output_type": "stream",
     "text": [
      "Counterfactual probability: [0.4946676 0.5053324]\n",
      "cf perturbed: {'Glnsynthetase': 0.0, 'CCR4': -1.2138598e-05, 'PDL1': -100.0, 'LAG3': -8.670616e-06, 'CD105endoglin': 0.0, 'TIM3': -100.0, 'CXCR4': -100.0, 'PD1': 1.4169874e-05, 'CYR61': 0.0, 'CD44': 1.3497621e-05, 'IL10': -1.1429313e-05, 'CXCL12': 0.0, 'CXCR3': 0.0, 'Galectin9': -1.0419171e-05, 'YAP': 186.32039}\n"
     ]
    },
    {
     "name": "stderr",
     "output_type": "stream",
     "text": [
      " 45%|████▌     | 95/209 [3:39:10<3:57:47, 125.16s/it]"
     ]
    },
    {
     "name": "stdout",
     "output_type": "stream",
     "text": [
      "Counterfactual probability: [0.12953043 0.87046957]\n",
      "cf perturbed: {'Glnsynthetase': -100.0, 'CCR4': -100.0, 'PDL1': -100.0, 'LAG3': -100.0, 'CD105endoglin': 9769.999, 'TIM3': -100.0, 'CXCR4': -100.0, 'PD1': -100.0, 'CYR61': -100.0, 'CD44': -99.99997, 'IL10': -100.0, 'CXCL12': -100.0, 'CXCR3': -100.0, 'Galectin9': -100.0, 'YAP': 5092.099}\n"
     ]
    },
    {
     "name": "stderr",
     "output_type": "stream",
     "text": [
      " 46%|████▌     | 96/209 [3:41:45<4:10:23, 132.95s/it]"
     ]
    },
    {
     "name": "stdout",
     "output_type": "stream",
     "text": [
      "UserWarning: No counterfactual found!\n"
     ]
    },
    {
     "name": "stderr",
     "output_type": "stream",
     "text": [
      " 46%|████▋     | 97/209 [3:44:20<4:19:00, 138.75s/it]"
     ]
    },
    {
     "name": "stdout",
     "output_type": "stream",
     "text": [
      "Counterfactual probability: [0.00392681 0.99607325]\n",
      "cf perturbed: {'Glnsynthetase': 0.0, 'CCR4': -100.0, 'PDL1': 0.0, 'LAG3': -100.0, 'CD105endoglin': 745.5415, 'TIM3': 7.5525113e-06, 'CXCR4': -100.0, 'PD1': -100.0, 'CYR61': -100.0, 'CD44': -99.99999, 'IL10': -100.0, 'CXCL12': -100.0, 'CXCR3': -100.0, 'Galectin9': -9.126167e-06, 'YAP': 0.0}\n"
     ]
    },
    {
     "name": "stderr",
     "output_type": "stream",
     "text": [
      " 47%|████▋     | 98/209 [3:46:54<4:24:37, 143.04s/it]"
     ]
    },
    {
     "name": "stdout",
     "output_type": "stream",
     "text": [
      "Counterfactual probability: [0.06123363 0.93876636]\n",
      "cf perturbed: {'Glnsynthetase': -4.4146018e-05, 'CCR4': -100.0, 'PDL1': 1.5264128e-05, 'LAG3': 829.988, 'CD105endoglin': 4716.051, 'TIM3': -2.1804277e-05, 'CXCR4': -100.0, 'PD1': -100.0, 'CYR61': 2.0295844e-05, 'CD44': 0.0, 'IL10': -100.0, 'CXCL12': -100.0, 'CXCR3': 0.0, 'Galectin9': -5.403104e-05, 'YAP': 310.8039}\n"
     ]
    },
    {
     "name": "stderr",
     "output_type": "stream",
     "text": [
      " 47%|████▋     | 99/209 [3:49:29<4:28:29, 146.45s/it]"
     ]
    },
    {
     "name": "stdout",
     "output_type": "stream",
     "text": [
      "Counterfactual probability: [0.39918256 0.60081744]\n",
      "cf perturbed: {'Glnsynthetase': 0.0, 'CCR4': -100.0, 'PDL1': -18.597666, 'LAG3': 1.2018259e-05, 'CD105endoglin': 6.9957423e-06, 'TIM3': -14.159811, 'CXCR4': -100.0, 'PD1': -39.95828, 'CYR61': -86.152695, 'CD44': 0.0, 'IL10': 1.094974e-05, 'CXCL12': -6.104445e-06, 'CXCR3': 0.0, 'Galectin9': -8.499277e-06, 'YAP': 0.0}\n"
     ]
    },
    {
     "name": "stderr",
     "output_type": "stream",
     "text": [
      " 48%|████▊     | 100/209 [3:52:05<4:31:00, 149.18s/it]"
     ]
    },
    {
     "name": "stdout",
     "output_type": "stream",
     "text": [
      "UserWarning: No counterfactual found!\n"
     ]
    },
    {
     "name": "stderr",
     "output_type": "stream",
     "text": [
      " 48%|████▊     | 101/209 [3:54:40<4:31:41, 150.94s/it]"
     ]
    },
    {
     "name": "stdout",
     "output_type": "stream",
     "text": [
      "Counterfactual probability: [0.3132526  0.68674743]\n",
      "cf perturbed: {'Glnsynthetase': -42.929943, 'CCR4': -100.0, 'PDL1': -100.0, 'LAG3': -27.052027, 'CD105endoglin': 44.558205, 'TIM3': -100.0, 'CXCR4': -100.0, 'PD1': -100.0, 'CYR61': -100.0, 'CD44': -8.610893, 'IL10': -100.0, 'CXCL12': -100.0, 'CXCR3': -7.49844e-06, 'Galectin9': 0.0, 'YAP': 0.0}\n"
     ]
    },
    {
     "name": "stderr",
     "output_type": "stream",
     "text": [
      " 49%|████▉     | 102/209 [3:57:16<4:31:44, 152.37s/it]"
     ]
    },
    {
     "name": "stdout",
     "output_type": "stream",
     "text": [
      "Counterfactual probability: [0.31887093 0.68112904]\n",
      "cf perturbed: {'Glnsynthetase': 0.0, 'CCR4': -1.1809936e-05, 'PDL1': -100.0, 'LAG3': -9.317587e-06, 'CD105endoglin': 9.197913e-06, 'TIM3': 0.0, 'CXCR4': -83.939705, 'PD1': 0.0, 'CYR61': -1.056637e-05, 'CD44': 0.0, 'IL10': 0.0, 'CXCL12': -1.2378124e-05, 'CXCR3': -6.050891e-06, 'Galectin9': 0.0, 'YAP': 146.27644}\n"
     ]
    },
    {
     "name": "stderr",
     "output_type": "stream",
     "text": [
      " 49%|████▉     | 103/209 [3:59:53<4:31:42, 153.79s/it]"
     ]
    },
    {
     "name": "stdout",
     "output_type": "stream",
     "text": [
      "Counterfactual probability: [0.2699822  0.73001784]\n",
      "cf perturbed: {'Glnsynthetase': -8.3873565e-06, 'CCR4': -33.086758, 'PDL1': -100.0, 'LAG3': -5.6288533, 'CD105endoglin': 0.0, 'TIM3': -23.553753, 'CXCR4': -100.0, 'PD1': 6.0580282e-06, 'CYR61': 0.0, 'CD44': -7.179565e-06, 'IL10': 0.0, 'CXCL12': 0.0, 'CXCR3': 0.0, 'Galectin9': -8.133809e-06, 'YAP': 0.0}\n"
     ]
    },
    {
     "name": "stderr",
     "output_type": "stream",
     "text": [
      " 50%|████▉     | 104/209 [4:02:29<4:30:14, 154.43s/it]"
     ]
    },
    {
     "name": "stdout",
     "output_type": "stream",
     "text": [
      "Counterfactual probability: [0.3228247 0.6771753]\n",
      "cf perturbed: {'Glnsynthetase': 0.0, 'CCR4': -100.0, 'PDL1': -49.26365, 'LAG3': -1.1520721e-05, 'CD105endoglin': 1.07867245e-05, 'TIM3': 0.0, 'CXCR4': -100.0, 'PD1': -70.653114, 'CYR61': -100.0, 'CD44': 0.0, 'IL10': 0.0, 'CXCL12': -100.0, 'CXCR3': 0.0, 'Galectin9': 0.0, 'YAP': -7.6104684e-06}\n"
     ]
    },
    {
     "name": "stderr",
     "output_type": "stream",
     "text": [
      " 50%|█████     | 105/209 [4:05:05<4:28:20, 154.81s/it]"
     ]
    },
    {
     "name": "stdout",
     "output_type": "stream",
     "text": [
      "Counterfactual probability: [0.4992749 0.5007251]\n",
      "cf perturbed: {'Glnsynthetase': 0.0, 'CCR4': -100.0, 'PDL1': -5.853671, 'LAG3': -2.0492744e-05, 'CD105endoglin': 6.1481173e-06, 'TIM3': -8.10512e-06, 'CXCR4': -100.0, 'PD1': -100.0, 'CYR61': -100.0, 'CD44': 0.0, 'IL10': 1.1511845e-05, 'CXCL12': -100.0, 'CXCR3': -9.259555e-06, 'Galectin9': -8.1188e-06, 'YAP': -7.5958847e-06}\n"
     ]
    },
    {
     "name": "stderr",
     "output_type": "stream",
     "text": [
      " 51%|█████     | 106/209 [4:07:40<4:25:53, 154.89s/it]"
     ]
    },
    {
     "name": "stdout",
     "output_type": "stream",
     "text": [
      "Counterfactual probability: [0.20419903 0.795801  ]\n",
      "cf perturbed: {'Glnsynthetase': 0.0, 'CCR4': -100.0, 'PDL1': -100.0, 'LAG3': 1.2025428e-05, 'CD105endoglin': 1441.1163, 'TIM3': -100.0, 'CXCR4': -100.0, 'PD1': 5.0456805e-05, 'CYR61': -9.5400765e-06, 'CD44': 2.9884217e-05, 'IL10': -7.2042785e-05, 'CXCL12': -5.4745873e-05, 'CXCR3': 9.031453e-06, 'Galectin9': -7.2468806e-06, 'YAP': 1173.5197}\n",
      "Instance already classified as target class, no counterfactual needed\n"
     ]
    },
    {
     "name": "stderr",
     "output_type": "stream",
     "text": [
      " 52%|█████▏    | 108/209 [4:10:14<3:20:39, 119.21s/it]"
     ]
    },
    {
     "name": "stdout",
     "output_type": "stream",
     "text": [
      "Counterfactual probability: [0.49582994 0.50417006]\n",
      "cf perturbed: {'Glnsynthetase': 7.0955098e-06, 'CCR4': -100.0, 'PDL1': -69.73267, 'LAG3': 0.0, 'CD105endoglin': 24.832973, 'TIM3': -37.15339, 'CXCR4': -100.0, 'PD1': -100.0, 'CYR61': -100.0, 'CD44': -9.274106e-06, 'IL10': 0.0, 'CXCL12': -100.0, 'CXCR3': -8.447058e-06, 'Galectin9': -7.0173983e-06, 'YAP': 0.0}\n"
     ]
    },
    {
     "name": "stderr",
     "output_type": "stream",
     "text": [
      " 52%|█████▏    | 109/209 [4:12:50<3:33:42, 128.23s/it]"
     ]
    },
    {
     "name": "stdout",
     "output_type": "stream",
     "text": [
      "Counterfactual probability: [0.11953954 0.88046044]\n",
      "cf perturbed: {'Glnsynthetase': 7.681769e-06, 'CCR4': -100.0, 'PDL1': -100.0, 'LAG3': -3.5050038e-05, 'CD105endoglin': 343.5359, 'TIM3': -1.1622198e-05, 'CXCR4': -100.0, 'PD1': -100.0, 'CYR61': -100.0, 'CD44': 7.482888e-06, 'IL10': -100.0, 'CXCL12': -100.0, 'CXCR3': 0.0, 'Galectin9': 0.0, 'YAP': -6.915649e-06}\n"
     ]
    },
    {
     "name": "stderr",
     "output_type": "stream",
     "text": [
      " 53%|█████▎    | 110/209 [4:15:26<3:43:18, 135.34s/it]"
     ]
    },
    {
     "name": "stdout",
     "output_type": "stream",
     "text": [
      "Counterfactual probability: [5.7551748e-04 9.9942446e-01]\n",
      "cf perturbed: {'Glnsynthetase': 0.0, 'CCR4': -100.0, 'PDL1': -100.0, 'LAG3': 0.0, 'CD105endoglin': 6.0655366e-06, 'TIM3': -100.0, 'CXCR4': -100.0, 'PD1': -100.0, 'CYR61': -29.582428, 'CD44': 0.0, 'IL10': 0.0, 'CXCL12': -94.00008, 'CXCR3': -1.0859411e-05, 'Galectin9': 0.0, 'YAP': 0.0}\n"
     ]
    },
    {
     "name": "stderr",
     "output_type": "stream",
     "text": [
      " 53%|█████▎    | 111/209 [4:18:01<3:50:00, 140.82s/it]"
     ]
    },
    {
     "name": "stdout",
     "output_type": "stream",
     "text": [
      "Counterfactual probability: [0.4593088 0.5406912]\n",
      "cf perturbed: {'Glnsynthetase': 0.0, 'CCR4': -100.0, 'PDL1': -100.0, 'LAG3': 0.0, 'CD105endoglin': 0.0, 'TIM3': -82.904724, 'CXCR4': -100.0, 'PD1': -73.916, 'CYR61': -43.56836, 'CD44': 9.078478e-06, 'IL10': -72.56073, 'CXCL12': -1.510264e-05, 'CXCR3': 18.374765, 'Galectin9': -1.4246295e-05, 'YAP': 5.6370792}\n"
     ]
    },
    {
     "name": "stderr",
     "output_type": "stream",
     "text": [
      " 54%|█████▎    | 112/209 [4:20:36<3:54:13, 144.88s/it]"
     ]
    },
    {
     "name": "stdout",
     "output_type": "stream",
     "text": [
      "Counterfactual probability: [0.40262398 0.597376  ]\n",
      "cf perturbed: {'Glnsynthetase': -1.2703686e-05, 'CCR4': -87.64522, 'PDL1': 8.46932e-06, 'LAG3': 245.07068, 'CD105endoglin': 284.53204, 'TIM3': 0.0, 'CXCR4': -100.0, 'PD1': 0.0, 'CYR61': 0.0, 'CD44': 1.1250511e-05, 'IL10': -2.0040889e-05, 'CXCL12': -7.973061e-06, 'CXCR3': 0.0, 'Galectin9': 0.0, 'YAP': 35.62776}\n",
      "Instance already classified as target class, no counterfactual needed\n"
     ]
    },
    {
     "name": "stderr",
     "output_type": "stream",
     "text": [
      " 55%|█████▍    | 114/209 [4:23:11<3:01:58, 114.93s/it]"
     ]
    },
    {
     "name": "stdout",
     "output_type": "stream",
     "text": [
      "Counterfactual probability: [0.49189475 0.5081053 ]\n",
      "cf perturbed: {'Glnsynthetase': -9.037838e-06, 'CCR4': -7.827713e-06, 'PDL1': -67.76895, 'LAG3': 0.0, 'CD105endoglin': 0.0, 'TIM3': -17.140202, 'CXCR4': -100.0, 'PD1': 0.0, 'CYR61': 0.0, 'CD44': 7.760575e-06, 'IL10': 0.0, 'CXCL12': -1.149218e-05, 'CXCR3': -6.614351e-06, 'Galectin9': -5.968363e-06, 'YAP': -1.0912459e-05}\n"
     ]
    },
    {
     "name": "stderr",
     "output_type": "stream",
     "text": [
      " 55%|█████▌    | 115/209 [4:25:48<3:15:52, 125.03s/it]"
     ]
    },
    {
     "name": "stdout",
     "output_type": "stream",
     "text": [
      "Counterfactual probability: [0.49742767 0.50257236]\n",
      "cf perturbed: {'Glnsynthetase': 0.0, 'CCR4': -8.123033e-06, 'PDL1': 7.3643923e-06, 'LAG3': -7.1797863e-06, 'CD105endoglin': 0.0, 'TIM3': 0.0, 'CXCR4': -86.27475, 'PD1': 6.7079036e-06, 'CYR61': 0.0, 'CD44': 0.0, 'IL10': 0.0, 'CXCL12': -9.952572e-06, 'CXCR3': -7.332287e-06, 'Galectin9': 0.0, 'YAP': 0.0}\n"
     ]
    },
    {
     "name": "stderr",
     "output_type": "stream",
     "text": [
      " 56%|█████▌    | 116/209 [4:28:26<3:26:43, 133.37s/it]"
     ]
    },
    {
     "name": "stdout",
     "output_type": "stream",
     "text": [
      "Counterfactual probability: [0.40233836 0.5976617 ]\n",
      "cf perturbed: {'Glnsynthetase': 0.0, 'CCR4': -46.006855, 'PDL1': -41.346977, 'LAG3': 0.0, 'CD105endoglin': 0.0, 'TIM3': -51.659138, 'CXCR4': -100.0, 'PD1': 0.0, 'CYR61': -9.895914e-06, 'CD44': 6.393148e-06, 'IL10': -7.504981e-06, 'CXCL12': 0.0, 'CXCR3': 0.0, 'Galectin9': 7.379789e-06, 'YAP': 0.0}\n"
     ]
    },
    {
     "name": "stderr",
     "output_type": "stream",
     "text": [
      " 56%|█████▌    | 117/209 [4:31:03<3:34:23, 139.82s/it]"
     ]
    },
    {
     "name": "stdout",
     "output_type": "stream",
     "text": [
      "Counterfactual probability: [0.48130697 0.518693  ]\n",
      "cf perturbed: {'Glnsynthetase': 0.0, 'CCR4': -100.0, 'PDL1': -67.83312, 'LAG3': 1.0275807e-05, 'CD105endoglin': -6.766778e-06, 'TIM3': -26.274776, 'CXCR4': -100.0, 'PD1': -92.88026, 'CYR61': -100.0, 'CD44': 0.0, 'IL10': -100.0, 'CXCL12': -100.0, 'CXCR3': 0.0, 'Galectin9': 0.0, 'YAP': -6.9834036e-06}\n"
     ]
    },
    {
     "name": "stderr",
     "output_type": "stream",
     "text": [
      " 56%|█████▋    | 118/209 [4:33:39<3:38:31, 144.09s/it]"
     ]
    },
    {
     "name": "stdout",
     "output_type": "stream",
     "text": [
      "Counterfactual probability: [0.4834723 0.5165277]\n",
      "cf perturbed: {'Glnsynthetase': 0.0, 'CCR4': -1.7481494e-05, 'PDL1': -81.02993, 'LAG3': 0.0, 'CD105endoglin': 391.72607, 'TIM3': -87.61034, 'CXCR4': 9.040745e-06, 'PD1': 0.0, 'CYR61': -1.0415182e-05, 'CD44': 6.693645e-06, 'IL10': -2.0960466e-05, 'CXCL12': -1.2567689e-05, 'CXCR3': 0.0, 'Galectin9': 0.0, 'YAP': 0.0}\n"
     ]
    },
    {
     "name": "stderr",
     "output_type": "stream",
     "text": [
      " 57%|█████▋    | 119/209 [4:36:13<3:40:21, 146.90s/it]"
     ]
    },
    {
     "name": "stdout",
     "output_type": "stream",
     "text": [
      "Counterfactual probability: [0.01054065 0.9894594 ]\n",
      "cf perturbed: {'Glnsynthetase': 9.568526e-06, 'CCR4': -100.0, 'PDL1': -100.0, 'LAG3': 1.1485368e-05, 'CD105endoglin': 0.0, 'TIM3': -100.0, 'CXCR4': -100.0, 'PD1': -99.03589, 'CYR61': -76.673546, 'CD44': 0.0, 'IL10': 0.0, 'CXCL12': 0.0, 'CXCR3': -6.3989214e-06, 'Galectin9': -6.406129e-06, 'YAP': 74.317924}\n"
     ]
    },
    {
     "name": "stderr",
     "output_type": "stream",
     "text": [
      " 57%|█████▋    | 120/209 [4:38:47<3:41:13, 149.14s/it]"
     ]
    },
    {
     "name": "stdout",
     "output_type": "stream",
     "text": [
      "Counterfactual probability: [0.09785805 0.9021419 ]\n",
      "cf perturbed: {'Glnsynthetase': 0.0, 'CCR4': -100.0, 'PDL1': -83.63405, 'LAG3': -32.378475, 'CD105endoglin': 0.0, 'TIM3': -27.352041, 'CXCR4': -100.0, 'PD1': -46.610443, 'CYR61': -53.75555, 'CD44': 0.0, 'IL10': 0.0, 'CXCL12': -100.0, 'CXCR3': -1.1462672e-05, 'Galectin9': 9.202838e-06, 'YAP': 0.0}\n"
     ]
    },
    {
     "name": "stderr",
     "output_type": "stream",
     "text": [
      " 58%|█████▊    | 121/209 [4:41:22<3:41:06, 150.76s/it]"
     ]
    },
    {
     "name": "stdout",
     "output_type": "stream",
     "text": [
      "Counterfactual probability: [8.3021499e-05 9.9991703e-01]\n",
      "cf perturbed: {'Glnsynthetase': 0.0, 'CCR4': -100.0, 'PDL1': -63.476677, 'LAG3': 69.52631, 'CD105endoglin': 163.5228, 'TIM3': -100.0, 'CXCR4': -100.0, 'PD1': -61.37461, 'CYR61': -96.16943, 'CD44': -29.845259, 'IL10': -100.0, 'CXCL12': -96.825516, 'CXCR3': 0.0, 'Galectin9': 0.0, 'YAP': 88.073235}\n"
     ]
    }
   ],
   "source": [
    "# channels allowed to be perturbed\n",
    "channel_to_perturb = [\n",
    "    \"Glnsynthetase\",\n",
    "    \"CCR4\",\n",
    "    \"PDL1\",\n",
    "    \"LAG3\",\n",
    "    \"CD105endoglin\",\n",
    "    \"TIM3\",\n",
    "    \"CXCR4\",\n",
    "    \"PD1\",\n",
    "    \"CYR61\",\n",
    "    \"CD44\",\n",
    "    \"IL10\",\n",
    "    \"CXCL12\",\n",
    "    \"CXCR3\",\n",
    "    \"Galectin9\",\n",
    "    \"YAP\",\n",
    "]\n",
    "\n",
    "# probability cutoff for classification\n",
    "threshold = 0.43\n",
    "\n",
    "# optimization parameters\n",
    "optimization_param = {\n",
    "    \"use_kdtree\": True,\n",
    "    \"theta\": 40.0,\n",
    "    \"kappa\": -0.14,  # set to: (threshold - 0.5) * 2\n",
    "    \"learning_rate_init\": 0.1,\n",
    "    \"beta\": 1.0,\n",
    "    \"max_iterations\": 1000,  # set to >1000 for better performance\n",
    "    \"c_init\": 1000.0,\n",
    "    \"c_steps\": 5,\n",
    "}\n",
    "\n",
    "# Generate counterfactuals using trained model\n",
    "cf = mp.get_counterfactual(\n",
    "    images=select_metadata.sample(frac=1, random_state=40),\n",
    "    dataset=dataset,\n",
    "    target_class=1,\n",
    "    model=model,\n",
    "    channel_to_perturb=channel_to_perturb,\n",
    "    optimization_params=optimization_param,\n",
    "    threshold=threshold,\n",
    "    verbose=False,\n",
    ")"
   ]
  },
  {
   "cell_type": "code",
   "execution_count": null,
   "metadata": {},
   "outputs": [],
   "source": []
  }
 ],
 "metadata": {
  "kernelspec": {
   "display_name": "morpheus-spatial-ndDQRg-x-py3.9",
   "language": "python",
   "name": "python3"
  },
  "language_info": {
   "codemirror_mode": {
    "name": "ipython",
    "version": 3
   },
   "file_extension": ".py",
   "mimetype": "text/x-python",
   "name": "python",
   "nbconvert_exporter": "python",
   "pygments_lexer": "ipython3",
   "version": "3.9.18"
  }
 },
 "nbformat": 4,
 "nbformat_minor": 2
}
