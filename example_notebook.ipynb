{
 "cells": [
  {
   "cell_type": "markdown",
   "metadata": {},
   "source": [
    "## Example IMC analysis with Morpheus"
   ]
  },
  {
   "cell_type": "markdown",
   "metadata": {},
   "source": [
    "#### Step 0: import required packages"
   ]
  },
  {
   "cell_type": "code",
   "execution_count": 1,
   "metadata": {},
   "outputs": [
    {
     "name": "stderr",
     "output_type": "stream",
     "text": [
      "Seed set to 42\n"
     ]
    },
    {
     "data": {
      "text/plain": [
       "42"
      ]
     },
     "execution_count": 1,
     "metadata": {},
     "output_type": "execute_result"
    }
   ],
   "source": [
    "import morpheus as mp\n",
    "from morpheus.classification import train, PatchClassifier\n",
    "from morpheus.counterfactual import generate_cf\n",
    "from lightning.pytorch import seed_everything\n",
    "\n",
    "# Set seed for reproducibility\n",
    "seed_everything(42)"
   ]
  },
  {
   "cell_type": "markdown",
   "metadata": {},
   "source": [
    "#### Step 1: create a dataset object"
   ]
  },
  {
   "cell_type": "code",
   "execution_count": 2,
   "metadata": {},
   "outputs": [],
   "source": [
    "data_path = \"/groups/mthomson/zwang2/IMC/output/cedarsLiver_sz48_pxl3_nc44/temp/crc.h5\"  # change to your own directory\n",
    "livertumor = mp.SpatialDataset(data_path=data_path)"
   ]
  },
  {
   "cell_type": "markdown",
   "metadata": {},
   "source": [
    "#### Step 2: generate data splits to prepare for model training"
   ]
  },
  {
   "cell_type": "markdown",
   "metadata": {},
   "source": [
    "Next, we will need to generate train, validation, and test data splits for model training. We want to stratify our splits by the label we want to predict."
   ]
  },
  {
   "cell_type": "code",
   "execution_count": 3,
   "metadata": {},
   "outputs": [
    {
     "name": "stdout",
     "output_type": "stream",
     "text": [
      "Data splits already exist in /groups/mthomson/zwang2/IMC/output/cedarsLiver_sz48_pxl3_nc44/temp/data\n"
     ]
    }
   ],
   "source": [
    "labelname = \"Tcytotoxic\"\n",
    "livertumor.generate_data_splits(stratify_by=labelname)"
   ]
  },
  {
   "cell_type": "markdown",
   "metadata": {},
   "source": [
    "##### Step 3: train PyTorch model"
   ]
  },
  {
   "cell_type": "code",
   "execution_count": null,
   "metadata": {},
   "outputs": [],
   "source": [
    "# initialize model\n",
    "model_arch = \"unet\"\n",
    "n_channels = len(livertumor.channel_names)\n",
    "img_size = livertumor.data_dim[1:3]\n",
    "model = PatchClassifier(n_channels, img_size, model_arch=model_arch)\n",
    "\n",
    "# train model\n",
    "model = train(model=model, dataset=livertumor, labelname=labelname)"
   ]
  },
  {
   "cell_type": "markdown",
   "metadata": {},
   "source": [
    "#### Step 4: generate counterfactuals"
   ]
  },
  {
   "cell_type": "code",
   "execution_count": null,
   "metadata": {},
   "outputs": [],
   "source": [
    "# Usage example\n",
    "generate_cf_params = {\n",
    "    \"model_path\": \"path/to/your/model\",\n",
    "    \"channel_to_perturb\": [\"CXCR4\", \"PD1\", \"PD-L1\"],\n",
    "    \"data_dict\": {...},\n",
    "}\n",
    "\n",
    "# Generate counterfactuals\n",
    "cf = generate_cf(livertumor, model, generate_cf_params)"
   ]
  },
  {
   "cell_type": "code",
   "execution_count": null,
   "metadata": {},
   "outputs": [],
   "source": []
  },
  {
   "cell_type": "code",
   "execution_count": null,
   "metadata": {},
   "outputs": [],
   "source": []
  },
  {
   "cell_type": "code",
   "execution_count": null,
   "metadata": {},
   "outputs": [],
   "source": []
  },
  {
   "cell_type": "code",
   "execution_count": null,
   "metadata": {},
   "outputs": [],
   "source": []
  },
  {
   "cell_type": "code",
   "execution_count": null,
   "metadata": {},
   "outputs": [],
   "source": []
  },
  {
   "cell_type": "code",
   "execution_count": null,
   "metadata": {},
   "outputs": [],
   "source": [
    "metadata = livertumor.metadata[[\"PatientID\", \"ImageNumber\"]]\n",
    "label = livertumor.label\n",
    "\n",
    "# merge metadata and label using ImageNumber as the common column\n",
    "metadata = metadata.merge(label, on=\"ImageNumber\")\n",
    "metadata = metadata.reset_index().rename(columns={\"index\": \"patch_index\"})\n",
    "\n",
    "# add misc to metadata with columns \"location_x_index\" and \"location_y_index\"\n",
    "metadata = metadata.join(\n",
    "    pd.DataFrame(misc, columns=[\"location_x_index\", \"location_y_index\"])\n",
    ")\n",
    "\n",
    "metadata.to_csv(\n",
    "    \"/groups/mthomson/zwang2/IMC/output/cedarsLiver_sz48_pxl3_nc44/temp/metadata.csv\",\n",
    "    index=False,\n",
    ")"
   ]
  },
  {
   "cell_type": "code",
   "execution_count": null,
   "metadata": {},
   "outputs": [],
   "source": [
    "import h5py\n",
    "\n",
    "with h5py.File(\n",
    "    \"/groups/mthomson/zwang2/IMC/output/cedarsLiver_sz48_pxl3_nc44/temp/crc.h5\", \"w\"\n",
    ") as f:\n",
    "    # Create a dataset to store the images\n",
    "    dset = f.create_dataset(\n",
    "        \"images\",\n",
    "        data=livertumor.intensity,\n",
    "        compression=\"gzip\",\n",
    "        chunks=(100, 16, 16, 44),\n",
    "        dtype=livertumor.intensity.dtype,\n",
    "    )\n",
    "\n",
    "    # Create a group to store the metadata\n",
    "    metadata_numpy = livertumor.metadata.to_records(index=False)\n",
    "    dset_metadata = f.create_dataset(\n",
    "        \"metadata\", data=metadata_numpy, dtype=metadata_numpy.dtype\n",
    "    )\n",
    "\n",
    "    # Create a group to store the channel names\n",
    "    dset_channel_names = f.create_dataset(\"channel_names\", data=livertumor.channel)"
   ]
  }
 ],
 "metadata": {
  "kernelspec": {
   "display_name": "morpheus",
   "language": "python",
   "name": "morpheus"
  },
  "language_info": {
   "codemirror_mode": {
    "name": "ipython",
    "version": 3
   },
   "file_extension": ".py",
   "mimetype": "text/x-python",
   "name": "python",
   "nbconvert_exporter": "python",
   "pygments_lexer": "ipython3",
   "version": "3.9.18"
  }
 },
 "nbformat": 4,
 "nbformat_minor": 2
}
