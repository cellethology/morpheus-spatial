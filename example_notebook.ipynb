{
 "cells": [
  {
   "cell_type": "markdown",
   "metadata": {},
   "source": [
    "## Example IMC analysis with Morpheus"
   ]
  },
  {
   "cell_type": "markdown",
   "metadata": {},
   "source": [
    "#### Step 0: import required packages"
   ]
  },
  {
   "cell_type": "code",
   "execution_count": null,
   "metadata": {},
   "outputs": [],
   "source": [
    "import os\n",
    "\n",
    "import morpheus as mp\n",
    "from lightning.pytorch import seed_everything\n",
    "\n",
    "# Set seed for reproducibility\n",
    "seed_everything(42)\n",
    "\n",
    "%reload_ext autoreload\n",
    "%autoreload 2"
   ]
  },
  {
   "cell_type": "markdown",
   "metadata": {},
   "source": [
    "#### Step 1: create a dataset object"
   ]
  },
  {
   "cell_type": "code",
   "execution_count": null,
   "metadata": {},
   "outputs": [],
   "source": [
    "data_path = \"/groups/mthomson/zwang2/IMC/output/cedarsLiver_sz48_pxl3_nc44/temp/singlecell.csv\"  # change to your own directory\n",
    "dataset = mp.SpatialDataset(data_path)"
   ]
  },
  {
   "cell_type": "code",
   "execution_count": 7,
   "metadata": {},
   "outputs": [
    {
     "data": {
      "text/plain": [
       "['CD45',\n",
       " 'Glnsynthetase',\n",
       " 'CD163',\n",
       " 'NKG2D',\n",
       " 'CCR4',\n",
       " 'PDL1',\n",
       " 'FAP',\n",
       " 'CD11c',\n",
       " 'LAG3',\n",
       " 'HepPar1',\n",
       " 'FOXP3',\n",
       " 'aSMA',\n",
       " 'CD4',\n",
       " 'CD105endoglin',\n",
       " 'CD68',\n",
       " 'VISTA',\n",
       " 'CD20',\n",
       " 'CD8a',\n",
       " 'TIM3',\n",
       " 'CXCR4',\n",
       " 'PD1',\n",
       " 'iNOS',\n",
       " 'CD31',\n",
       " 'CYR61',\n",
       " 'CDX2',\n",
       " 'CAIX',\n",
       " 'CD3',\n",
       " 'CD44',\n",
       " 'CD15',\n",
       " 'CD11b',\n",
       " 'HLADR',\n",
       " 'IL10',\n",
       " 'CXCL12',\n",
       " 'HLAABC',\n",
       " 'DNA1',\n",
       " 'DNA2',\n",
       " 'GranzymeB',\n",
       " 'Ki67',\n",
       " 'HistoneH3',\n",
       " 'CXCR3',\n",
       " 'Galectin9',\n",
       " 'YAP',\n",
       " 'CD14',\n",
       " 'CK19']"
      ]
     },
     "execution_count": 7,
     "metadata": {},
     "output_type": "execute_result"
    }
   ],
   "source": [
    "dataset.generate_masked_patch(patch_sz=, pixel_sz=)"
   ]
  },
  {
   "cell_type": "markdown",
   "metadata": {},
   "source": [
    "#### Step 2: generate data splits to prepare for model training"
   ]
  },
  {
   "cell_type": "markdown",
   "metadata": {},
   "source": [
    "Next, we will need to generate train, validation, and test data splits for model training. We want to stratify our splits by the label we want to predict."
   ]
  },
  {
   "cell_type": "code",
   "execution_count": null,
   "metadata": {},
   "outputs": [],
   "source": [
    "label_name = \"Tcytotoxic\"\n",
    "livertumor.generate_data_splits(stratify_by=label_name)"
   ]
  },
  {
   "cell_type": "markdown",
   "metadata": {},
   "source": [
    "##### Step 3: train PyTorch model"
   ]
  },
  {
   "cell_type": "code",
   "execution_count": null,
   "metadata": {},
   "outputs": [],
   "source": [
    "# initialize model\n",
    "model_arch = \"unet\"\n",
    "n_channels = livertumor.n_channels\n",
    "img_size = livertumor.img_size\n",
    "model = mp.PatchClassifier(n_channels, img_size, arch=model_arch)\n",
    "\n",
    "# train model\n",
    "trainer_params = {\n",
    "    \"max_epochs\": 2,\n",
    "    \"accelerator\": \"auto\",\n",
    "    \"logger\": False,\n",
    "}\n",
    "model = mp.train(\n",
    "    model=model,\n",
    "    dataset=livertumor,\n",
    "    label_name=label_name,\n",
    "    trainer_params=trainer_params,\n",
    ")"
   ]
  },
  {
   "cell_type": "markdown",
   "metadata": {},
   "source": [
    "#### Step 4: generate counterfactuals"
   ]
  },
  {
   "cell_type": "code",
   "execution_count": null,
   "metadata": {},
   "outputs": [],
   "source": [
    "# images to generate counterfactuals\n",
    "select_metadata = livertumor.metadata[\n",
    "    (livertumor.metadata[\"Tumor\"] == 1)\n",
    "    & (livertumor.metadata[\"Tcytotoxic\"] == 0)\n",
    "    & (livertumor.metadata[\"splits\"] == \"train\")\n",
    "]\n",
    "# channels allowed to be perturbed\n",
    "channel_to_perturb = [\n",
    "    \"Glnsynthetase\",\n",
    "    \"CCR4\",\n",
    "    \"PDL1\",\n",
    "    \"LAG3\",\n",
    "    \"CD105endoglin\",\n",
    "    \"TIM3\",\n",
    "    \"CXCR4\",\n",
    "    \"PD1\",\n",
    "    \"CYR61\",\n",
    "    \"CD44\",\n",
    "    \"IL10\",\n",
    "    \"CXCL12\",\n",
    "    \"CXCR3\",\n",
    "    \"Galectin9\",\n",
    "    \"YAP\",\n",
    "]\n",
    "\n",
    "# threshold for classification\n",
    "threshold = 0.5\n",
    "\n",
    "# optimization parameters\n",
    "optimization_param = {\n",
    "    \"use_kdtree\": True,\n",
    "    \"theta\": 40.0,\n",
    "    \"kappa\": 0,  # set to: (threshold - 0.5) * 2\n",
    "    \"learning_rate_init\": 0.1,\n",
    "    \"beta\": 40.0,\n",
    "    \"max_iterations\": 10,\n",
    "    \"c_init\": 1000.0,\n",
    "    \"c_steps\": 5,\n",
    "}\n",
    "\n",
    "# load model if needed\n",
    "model_path = os.path.join(livertumor.model_dir, \"checkpoints/epoch=49-step=17400.ckpt\")\n",
    "model = livertumor.load_model(model_path, arch=\"unet\")"
   ]
  },
  {
   "cell_type": "code",
   "execution_count": null,
   "metadata": {},
   "outputs": [],
   "source": [
    "# Generate counterfactuals using trained model\n",
    "cf = mp.get_counterfactual(\n",
    "    images=select_metadata.iloc[:10],\n",
    "    dataset=livertumor,\n",
    "    target_class=1,\n",
    "    model=model,\n",
    "    channel_to_perturb=channel_to_perturb,\n",
    "    optimization_params=optimization_param,\n",
    "    threshold=threshold,\n",
    "    num_workers=2,\n",
    ")"
   ]
  },
  {
   "cell_type": "code",
   "execution_count": null,
   "metadata": {},
   "outputs": [],
   "source": [
    "metadata = livertumor.metadata[[\"PatientID\", \"ImageNumber\"]]\n",
    "label = livertumor.label\n",
    "\n",
    "# merge metadata and label using ImageNumber as the common column\n",
    "metadata = metadata.merge(label, on=\"ImageNumber\")\n",
    "metadata = metadata.reset_index().rename(columns={\"index\": \"patch_index\"})\n",
    "\n",
    "# add misc to metadata with columns \"location_x_index\" and \"location_y_index\"\n",
    "metadata = metadata.join(\n",
    "    pd.DataFrame(misc, columns=[\"location_x_index\", \"location_y_index\"])\n",
    ")\n",
    "\n",
    "metadata.to_csv(\n",
    "    \"/groups/mthomson/zwang2/IMC/output/cedarsLiver_sz48_pxl3_nc44/temp/metadata.csv\",\n",
    "    index=False,\n",
    ")"
   ]
  },
  {
   "cell_type": "code",
   "execution_count": null,
   "metadata": {},
   "outputs": [],
   "source": [
    "import h5py\n",
    "\n",
    "with h5py.File(\n",
    "    \"/groups/mthomson/zwang2/IMC/output/cedarsLiver_sz48_pxl3_nc44/temp/crc.h5\", \"w\"\n",
    ") as f:\n",
    "    # Create a dataset to store the images\n",
    "    dset = f.create_dataset(\n",
    "        \"images\",\n",
    "        data=livertumor.intensity,\n",
    "        compression=\"gzip\",\n",
    "        chunks=(100, 16, 16, 44),\n",
    "        dtype=livertumor.intensity.dtype,\n",
    "    )\n",
    "\n",
    "    # Create a group to store the metadata\n",
    "    metadata_numpy = livertumor.metadata.to_records(index=False)\n",
    "    dset_metadata = f.create_dataset(\n",
    "        \"metadata\", data=metadata_numpy, dtype=metadata_numpy.dtype\n",
    "    )\n",
    "\n",
    "    # Create a group to store the channel names\n",
    "    dset_channel_names = f.create_dataset(\"channel_names\", data=livertumor.channel)"
   ]
  }
 ],
 "metadata": {
  "kernelspec": {
   "display_name": "Python (morpheus)",
   "language": "python",
   "name": "morpheus-env"
  },
  "language_info": {
   "codemirror_mode": {
    "name": "ipython",
    "version": 3
   },
   "file_extension": ".py",
   "mimetype": "text/x-python",
   "name": "python",
   "nbconvert_exporter": "python",
   "pygments_lexer": "ipython3",
   "version": "3.9.18"
  }
 },
 "nbformat": 4,
 "nbformat_minor": 2
}
