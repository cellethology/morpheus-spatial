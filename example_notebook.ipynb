{
 "cells": [
  {
   "cell_type": "markdown",
   "metadata": {},
   "source": [
    "## Example IMC analysis with Morpheus"
   ]
  },
  {
   "cell_type": "markdown",
   "metadata": {},
   "source": [
    "#### Step 0: import required packages"
   ]
  },
  {
   "cell_type": "code",
   "execution_count": null,
   "metadata": {},
   "outputs": [],
   "source": [
    "import os\n",
    "import morpheus as mp\n",
    "from lightning.pytorch import seed_everything\n",
    "\n",
    "# Set seed for reproducibility\n",
    "seed_everything(42)\n",
    "\n",
    "%reload_ext autoreload\n",
    "%autoreload 2"
   ]
  },
  {
   "cell_type": "markdown",
   "metadata": {},
   "source": [
    "#### Step 1: create a dataset object"
   ]
  },
  {
   "cell_type": "code",
   "execution_count": null,
   "metadata": {},
   "outputs": [],
   "source": [
    "data_path = \"/groups/mthomson/zwang2/IMC/output/cedarsLiver_sz48_pxl3_nc44/temp/singlecell.csv\"  # change to your own directory\n",
    "dataset = mp.SpatialDataset(\n",
    "    input_path=data_path,\n",
    "    channel_names=[\n",
    "        \"CD45\",\n",
    "        \"Glnsynthetase\",\n",
    "        \"CD163\",\n",
    "        \"NKG2D\",\n",
    "        \"CCR4\",\n",
    "        \"PDL1\",\n",
    "        \"FAP\",\n",
    "        \"CD11c\",\n",
    "        \"LAG3\",\n",
    "        \"HepPar1\",\n",
    "        \"FOXP3\",\n",
    "        \"aSMA\",\n",
    "        \"CD4\",\n",
    "        \"CD105endoglin\",\n",
    "        \"CD68\",\n",
    "        \"VISTA\",\n",
    "        \"CD20\",\n",
    "        \"CD8a\",\n",
    "        \"TIM3\",\n",
    "        \"CXCR4\",\n",
    "        \"PD1\",\n",
    "        \"iNOS\",\n",
    "        \"CD31\",\n",
    "        \"CYR61\",\n",
    "        \"CDX2\",\n",
    "        \"CAIX\",\n",
    "        \"CD3\",\n",
    "        \"CD44\",\n",
    "        \"CD15\",\n",
    "        \"CD11b\",\n",
    "        \"HLADR\",\n",
    "        \"IL10\",\n",
    "        \"CXCL12\",\n",
    "        \"HLAABC\",\n",
    "        \"DNA1\",\n",
    "        \"DNA2\",\n",
    "        \"GranzymeB\",\n",
    "        \"Ki67\",\n",
    "        \"HistoneH3\",\n",
    "        \"CXCR3\",\n",
    "        \"Galectin9\",\n",
    "        \"YAP\",\n",
    "        \"CD14\",\n",
    "        \"CK19\",\n",
    "    ],\n",
    ")"
   ]
  },
  {
   "cell_type": "code",
   "execution_count": 5,
   "metadata": {},
   "outputs": [
    {
     "name": "stdout",
     "output_type": "stream",
     "text": [
      "Generating patches of size 16x16 pixels\n",
      "Pixel size: 3x3 microns\n",
      "Cell types recorded: ['Tcytotoxic', 'Tumor']\n",
      "Cell types masked: ['Tcytotoxic']\n",
      "Patches saved to /groups/mthomson/zwang2/IMC/output/cedarsLiver_sz48_pxl3_nc44/temp/patch.h5\n",
      "   patch_id  ImageNumber  PatientID  PatchIndex_X  PatchIndex_Y  \\\n",
      "0         0            2          2             0             0   \n",
      "1         1            2          2             0             1   \n",
      "2         2            2          2             0             2   \n",
      "3         3            2          2             0             3   \n",
      "4         4            2          2             0             4   \n",
      "\n",
      "   Contains_Tcytotoxic  Contains_Tumor  \n",
      "0                False            True  \n",
      "1                 True            True  \n",
      "2                False            True  \n",
      "3                 True           False  \n",
      "4                 True           False  \n"
     ]
    }
   ],
   "source": [
    "patch_size = 16  # Patch size in pixels\n",
    "pixel_size = 3  # Pixel size in microns\n",
    "cell_types = [\"Tcytotoxic\", \"Tumor\"]  # Specify the cell types of interest\n",
    "mask_cell_types = [\"Tcytotoxic\"]\n",
    "dataset.generate_masked_patch(\n",
    "    cell_to_mask=mask_cell_types,\n",
    "    cell_types=cell_types,\n",
    "    patch_size=patch_size,\n",
    "    pixel_size=pixel_size,\n",
    "    save=True,\n",
    ")\n",
    "\n",
    "# example metadata\n",
    "print(dataset.metadata.head())"
   ]
  },
  {
   "cell_type": "markdown",
   "metadata": {},
   "source": [
    "#### Step 2: generate data splits to prepare for model training"
   ]
  },
  {
   "cell_type": "markdown",
   "metadata": {},
   "source": [
    "Next, we will need to generate train, validation, and test data splits for model training. We want to stratify our splits by the label we want to predict."
   ]
  },
  {
   "cell_type": "code",
   "execution_count": null,
   "metadata": {},
   "outputs": [],
   "source": [
    "label_name = \"Contains_Tcytotoxic\"\n",
    "dataset.generate_data_splits(stratify_by=label_name)"
   ]
  },
  {
   "cell_type": "markdown",
   "metadata": {},
   "source": [
    "##### Step 3: train PyTorch model"
   ]
  },
  {
   "cell_type": "code",
   "execution_count": 7,
   "metadata": {},
   "outputs": [
    {
     "name": "stderr",
     "output_type": "stream",
     "text": [
      "Using cache found in /home/zwang2/.cache/torch/hub/mateuszbuda_brain-segmentation-pytorch_master\n",
      "/central/home/zwang2/.cache/pypoetry/virtualenvs/morpheus-ndDQRg-x-py3.9/lib/python3.9/site-packages/lightning/fabric/plugins/environments/slurm.py:204: The `srun` command is available on your system but is not used. HINT: If your intention is to run Lightning on SLURM, prepend your python command with `srun` like so: srun python /central/home/zwang2/.cache/pypoetry/virtualenvs/mor ...\n",
      "GPU available: True (cuda), used: True\n",
      "TPU available: False, using: 0 TPU cores\n",
      "IPU available: False, using: 0 IPUs\n",
      "HPU available: False, using: 0 HPUs\n",
      "/central/home/zwang2/.cache/pypoetry/virtualenvs/morpheus-ndDQRg-x-py3.9/lib/python3.9/site-packages/lightning/pytorch/callbacks/model_checkpoint.py:652: Checkpoint directory /groups/mthomson/zwang2/IMC/output/cedarsLiver_sz48_pxl3_nc44/temp/model/checkpoints exists and is not empty.\n",
      "LOCAL_RANK: 0 - CUDA_VISIBLE_DEVICES: [0]\n"
     ]
    },
    {
     "name": "stdout",
     "output_type": "stream",
     "text": [
      "Training model with unet architecture\n"
     ]
    },
    {
     "name": "stderr",
     "output_type": "stream",
     "text": [
      "\n",
      "  | Name      | Type       | Params\n",
      "-----------------------------------------\n",
      "0 | predictor | Sequential | 14.7 M\n",
      "-----------------------------------------\n",
      "14.7 M    Trainable params\n",
      "0         Non-trainable params\n",
      "14.7 M    Total params\n",
      "58.760    Total estimated model params size (MB)\n"
     ]
    },
    {
     "name": "stdout",
     "output_type": "stream",
     "text": [
      "Epoch 49: 100%|██████████| 270/270 [00:21<00:00, 12.61it/s, val_bce=0.564, val_precisio1n=0.771, val_recall=0.362, val_bmc=0.469, val_auroc=0.670, val_f1=0.484, val_acc=0.876]"
     ]
    },
    {
     "name": "stderr",
     "output_type": "stream",
     "text": [
      "`Trainer.fit` stopped: `max_epochs=50` reached.\n"
     ]
    },
    {
     "name": "stdout",
     "output_type": "stream",
     "text": [
      "Epoch 49: 100%|██████████| 270/270 [00:21<00:00, 12.61it/s, val_bce=0.564, val_precisio1n=0.771, val_recall=0.362, val_bmc=0.469, val_auroc=0.670, val_f1=0.484, val_acc=0.876]\n"
     ]
    },
    {
     "name": "stderr",
     "output_type": "stream",
     "text": [
      "Restoring states from the checkpoint path at /groups/mthomson/zwang2/IMC/output/cedarsLiver_sz48_pxl3_nc44/temp/model/checkpoints/epoch=45-step=12420.ckpt\n",
      "LOCAL_RANK: 0 - CUDA_VISIBLE_DEVICES: [0]\n",
      "Loaded model weights from the checkpoint at /groups/mthomson/zwang2/IMC/output/cedarsLiver_sz48_pxl3_nc44/temp/model/checkpoints/epoch=45-step=12420.ckpt\n"
     ]
    },
    {
     "name": "stdout",
     "output_type": "stream",
     "text": [
      "model saved to /groups/mthomson/zwang2/IMC/output/cedarsLiver_sz48_pxl3_nc44/temp/model\n",
      "Testing DataLoader 0: 100%|██████████| 101/101 [00:46<00:00,  2.19it/s]\n",
      "────────────────────────────────────────────────────────────────────────────────────────────────────────────────────────\n",
      "       Test metric             DataLoader 0\n",
      "────────────────────────────────────────────────────────────────────────────────────────────────────────────────────────\n",
      "        test_acc            0.8920052647590637\n",
      "       test_auroc           0.7620055675506592\n",
      "        test_bce            0.5567107796669006\n",
      "        test_bmc            0.5696919560432434\n",
      "         test_f1             0.623245120048523\n",
      "     test_precisio1n        0.7044439315795898\n",
      "       test_recall          0.5697081685066223\n",
      "────────────────────────────────────────────────────────────────────────────────────────────────────────────────────────\n"
     ]
    }
   ],
   "source": [
    "# initialize model\n",
    "model_arch = \"unet\"\n",
    "n_channels = dataset.n_channels\n",
    "img_size = dataset.img_size\n",
    "model = mp.PatchClassifier(n_channels, img_size, arch=model_arch)\n",
    "\n",
    "# train model\n",
    "trainer_params = {\n",
    "    \"max_epochs\": 100,\n",
    "    \"accelerator\": \"auto\",\n",
    "    \"logger\": False,\n",
    "}\n",
    "model = mp.train(\n",
    "    model=model,\n",
    "    dataset=dataset,\n",
    "    label_name=label_name,\n",
    "    trainer_params=trainer_params,\n",
    ")"
   ]
  },
  {
   "cell_type": "markdown",
   "metadata": {},
   "source": [
    "#### Step 4: generate counterfactuals"
   ]
  },
  {
   "cell_type": "code",
   "execution_count": null,
   "metadata": {},
   "outputs": [],
   "source": [
    "# images to generate counterfactuals\n",
    "select_metadata = dataset.metadata[\n",
    "    (dataset.metadata[\"Contains_Tumor\"] == 1)\n",
    "    & (dataset.metadata[\"Contains_Tcytotoxic\"] == 0)\n",
    "    & (dataset.metadata[\"splits\"] == \"train\")\n",
    "]\n",
    "# channels allowed to be perturbed\n",
    "channel_to_perturb = [\n",
    "    \"Glnsynthetase\",\n",
    "    \"CCR4\",\n",
    "    \"PDL1\",\n",
    "    \"LAG3\",\n",
    "    \"CD105endoglin\",\n",
    "    \"TIM3\",\n",
    "    \"CXCR4\",\n",
    "    \"PD1\",\n",
    "    \"CYR61\",\n",
    "    \"CD44\",\n",
    "    \"IL10\",\n",
    "    \"CXCL12\",\n",
    "    \"CXCR3\",\n",
    "    \"Galectin9\",\n",
    "    \"YAP\",\n",
    "]\n",
    "\n",
    "# threshold for classification\n",
    "threshold = 0.5\n",
    "\n",
    "# optimization parameters\n",
    "optimization_param = {\n",
    "    \"use_kdtree\": True,\n",
    "    \"theta\": 40.0,\n",
    "    \"kappa\": 0,  # set to: (threshold - 0.5) * 2\n",
    "    \"learning_rate_init\": 0.1,\n",
    "    \"beta\": 40.0,\n",
    "    \"max_iterations\": 10,\n",
    "    \"c_init\": 1000.0,\n",
    "    \"c_steps\": 5,\n",
    "}\n",
    "\n",
    "# load model if needed\n",
    "model_path = os.path.join(dataset.model_dir, \"checkpoints/epoch=49-step=17400.ckpt\")\n",
    "model = dataset.load_model(model_path, arch=\"unet\")"
   ]
  },
  {
   "cell_type": "code",
   "execution_count": null,
   "metadata": {},
   "outputs": [],
   "source": [
    "# Generate counterfactuals using trained model\n",
    "cf = mp.get_counterfactual(\n",
    "    images=select_metadata.iloc[:10],\n",
    "    dataset=dataset,\n",
    "    target_class=1,\n",
    "    model=model,\n",
    "    channel_to_perturb=channel_to_perturb,\n",
    "    optimization_params=optimization_param,\n",
    "    threshold=threshold,\n",
    ")"
   ]
  }
 ],
 "metadata": {
  "kernelspec": {
   "display_name": "morpheus",
   "language": "python",
   "name": "morpheus"
  },
  "language_info": {
   "codemirror_mode": {
    "name": "ipython",
    "version": 3
   },
   "file_extension": ".py",
   "mimetype": "text/x-python",
   "name": "python",
   "nbconvert_exporter": "python",
   "pygments_lexer": "ipython3",
   "version": "3.9.18"
  }
 },
 "nbformat": 4,
 "nbformat_minor": 2
}
