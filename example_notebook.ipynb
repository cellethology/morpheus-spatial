{
 "cells": [
  {
   "cell_type": "markdown",
   "metadata": {},
   "source": [
    "## Example IMC analysis with Morpheus"
   ]
  },
  {
   "cell_type": "markdown",
   "metadata": {},
   "source": [
    "#### Step 0: import required packages"
   ]
  },
  {
   "cell_type": "code",
   "execution_count": null,
   "metadata": {},
   "outputs": [],
   "source": [
    "import morpheus as mp\n",
    "from lightning.pytorch import seed_everything\n",
    "\n",
    "# Set seed for reproducibility\n",
    "seed_everything(42)\n",
    "\n",
    "%reload_ext autoreload\n",
    "%autoreload 2"
   ]
  },
  {
   "cell_type": "markdown",
   "metadata": {},
   "source": [
    "#### Step 1: create a dataset object"
   ]
  },
  {
   "cell_type": "code",
   "execution_count": null,
   "metadata": {},
   "outputs": [],
   "source": [
    "data_path = \"/groups/mthomson/zwang2/IMC/output/cedarsLiver_sz48_pxl3_nc44/temp/singlecell.csv\"  # change to your own directory\n",
    "dataset = mp.SpatialDataset(\n",
    "    input_path=data_path,\n",
    "    channel_names=[\n",
    "        \"CD45\",\n",
    "        \"Glnsynthetase\",\n",
    "        \"CD163\",\n",
    "        \"NKG2D\",\n",
    "        \"CCR4\",\n",
    "        \"PDL1\",\n",
    "        \"FAP\",\n",
    "        \"CD11c\",\n",
    "        \"LAG3\",\n",
    "        \"HepPar1\",\n",
    "        \"FOXP3\",\n",
    "        \"aSMA\",\n",
    "        \"CD4\",\n",
    "        \"CD105endoglin\",\n",
    "        \"CD68\",\n",
    "        \"VISTA\",\n",
    "        \"CD20\",\n",
    "        \"CD8a\",\n",
    "        \"TIM3\",\n",
    "        \"CXCR4\",\n",
    "        \"PD1\",\n",
    "        \"iNOS\",\n",
    "        \"CD31\",\n",
    "        \"CYR61\",\n",
    "        \"CDX2\",\n",
    "        \"CAIX\",\n",
    "        \"CD3\",\n",
    "        \"CD44\",\n",
    "        \"CD15\",\n",
    "        \"CD11b\",\n",
    "        \"HLADR\",\n",
    "        \"IL10\",\n",
    "        \"CXCL12\",\n",
    "        \"HLAABC\",\n",
    "        \"DNA1\",\n",
    "        \"DNA2\",\n",
    "        \"GranzymeB\",\n",
    "        \"Ki67\",\n",
    "        \"HistoneH3\",\n",
    "        \"CXCR3\",\n",
    "        \"Galectin9\",\n",
    "        \"YAP\",\n",
    "        \"CD14\",\n",
    "        \"CK19\",\n",
    "    ],\n",
    ")"
   ]
  },
  {
   "cell_type": "code",
   "execution_count": null,
   "metadata": {},
   "outputs": [],
   "source": [
    "patch_size = 16  # Patch size in pixels\n",
    "pixel_size = 3  # Pixel size in microns\n",
    "cell_types = [\"Tcytotoxic\", \"Tumor\"]  # Specify the cell types of interest\n",
    "mask_cell_types = [\"Tcytotoxic\"]\n",
    "dataset.generate_masked_patch(\n",
    "    cell_to_mask=mask_cell_types,\n",
    "    cell_types=cell_types,\n",
    "    patch_size=patch_size,\n",
    "    pixel_size=pixel_size,\n",
    "    save=True,\n",
    ")\n",
    "\n",
    "# example metadata\n",
    "print(dataset.metadata.head())"
   ]
  },
  {
   "cell_type": "markdown",
   "metadata": {},
   "source": [
    "#### Step 2: generate data splits to prepare for model training"
   ]
  },
  {
   "cell_type": "markdown",
   "metadata": {},
   "source": [
    "Next, we will need to generate train, validation, and test data splits for model training. We want to stratify our splits by the label we want to predict."
   ]
  },
  {
   "cell_type": "code",
   "execution_count": null,
   "metadata": {},
   "outputs": [],
   "source": [
    "label_name = \"Contains_Tcytotoxic\"\n",
    "dataset.generate_data_splits(stratify_by=label_name)"
   ]
  },
  {
   "cell_type": "markdown",
   "metadata": {},
   "source": [
    "##### Step 3: train PyTorch model"
   ]
  },
  {
   "cell_type": "code",
   "execution_count": null,
   "metadata": {},
   "outputs": [],
   "source": [
    "# initialize model\n",
    "model_arch = \"unet\"\n",
    "n_channels = dataset.n_channels\n",
    "img_size = dataset.img_size\n",
    "model = mp.PatchClassifier(n_channels, img_size, model_arch)\n",
    "\n",
    "# train model\n",
    "trainer_params = {\n",
    "    \"max_epochs\": 2,  # set to >60 for better performance\n",
    "    \"accelerator\": \"auto\",\n",
    "    \"logger\": False,\n",
    "}\n",
    "model = mp.train(\n",
    "    model=model,\n",
    "    dataset=dataset,\n",
    "    label_name=label_name,\n",
    "    trainer_params=trainer_params,\n",
    ")"
   ]
  },
  {
   "cell_type": "markdown",
   "metadata": {},
   "source": [
    "#### Step 4: generate counterfactuals"
   ]
  },
  {
   "cell_type": "code",
   "execution_count": null,
   "metadata": {},
   "outputs": [],
   "source": [
    "# load model if needed\n",
    "# model = mp.load_model(\"/path/to/checkpoint.ckpt\")\n",
    "\n",
    "# images to generate counterfactuals\n",
    "select_metadata = dataset.metadata[\n",
    "    (dataset.metadata[\"Contains_Tumor\"] == 1)\n",
    "    & (dataset.metadata[\"Contains_Tcytotoxic\"] == 0)\n",
    "    & (dataset.metadata[\"splits\"] == \"train\")\n",
    "]\n",
    "# channels allowed to be perturbed\n",
    "channel_to_perturb = [\n",
    "    \"Glnsynthetase\",\n",
    "    \"CCR4\",\n",
    "    \"PDL1\",\n",
    "    \"LAG3\",\n",
    "    \"CD105endoglin\",\n",
    "    \"TIM3\",\n",
    "    \"CXCR4\",\n",
    "    \"PD1\",\n",
    "    \"CYR61\",\n",
    "    \"CD44\",\n",
    "    \"IL10\",\n",
    "    \"CXCL12\",\n",
    "    \"CXCR3\",\n",
    "    \"Galectin9\",\n",
    "    \"YAP\",\n",
    "]\n",
    "\n",
    "# threshold for classification\n",
    "threshold = 0.5\n",
    "\n",
    "# optimization parameters\n",
    "optimization_param = {\n",
    "    \"use_kdtree\": True,\n",
    "    \"theta\": 40.0,\n",
    "    \"kappa\": 0,  # set to: (threshold - 0.5) * 2\n",
    "    \"learning_rate_init\": 0.1,\n",
    "    \"beta\": 40.0,\n",
    "    \"max_iterations\": 10,  # set to >1000 for better performance\n",
    "    \"c_init\": 1000.0,\n",
    "    \"c_steps\": 5,\n",
    "}"
   ]
  },
  {
   "cell_type": "code",
   "execution_count": null,
   "metadata": {},
   "outputs": [],
   "source": [
    "# Generate counterfactuals using trained model\n",
    "cf = mp.get_counterfactual(\n",
    "    images=select_metadata.iloc[:2],\n",
    "    dataset=dataset,\n",
    "    target_class=1,\n",
    "    model=model,\n",
    "    channel_to_perturb=channel_to_perturb,\n",
    "    optimization_params=optimization_param,\n",
    "    threshold=threshold,\n",
    ")"
   ]
  },
  {
   "cell_type": "code",
   "execution_count": null,
   "metadata": {},
   "outputs": [],
   "source": []
  }
 ],
 "metadata": {
  "kernelspec": {
   "display_name": "morpheus",
   "language": "python",
   "name": "morpheus"
  },
  "language_info": {
   "codemirror_mode": {
    "name": "ipython",
    "version": 3
   },
   "file_extension": ".py",
   "mimetype": "text/x-python",
   "name": "python",
   "nbconvert_exporter": "python",
   "pygments_lexer": "ipython3",
   "version": "3.9.18"
  }
 },
 "nbformat": 4,
 "nbformat_minor": 2
}
