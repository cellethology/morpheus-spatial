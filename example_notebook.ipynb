{
 "cells": [
  {
   "cell_type": "markdown",
   "metadata": {},
   "source": [
    "## Example IMC analysis with Morpheus"
   ]
  },
  {
   "cell_type": "markdown",
   "metadata": {},
   "source": [
    "#### Step 0: import required packages"
   ]
  },
  {
   "cell_type": "code",
   "execution_count": null,
   "metadata": {},
   "outputs": [],
   "source": [
    "import morpheus as mp\n",
    "from morpheus.counterfactual import generate_cf\n",
    "from lightning.pytorch import seed_everything\n",
    "\n",
    "# Set seed for reproducibility\n",
    "seed_everything(42)"
   ]
  },
  {
   "cell_type": "markdown",
   "metadata": {},
   "source": [
    "#### Step 1: create a dataset object"
   ]
  },
  {
   "cell_type": "code",
   "execution_count": null,
   "metadata": {},
   "outputs": [],
   "source": [
    "data_path = \"/groups/mthomson/zwang2/IMC/output/cedarsLiver_sz48_pxl3_nc44/temp/crc.h5\"  # change to your own directory\n",
    "livertumor = mp.SpatialDataset(data_path=data_path)"
   ]
  },
  {
   "cell_type": "markdown",
   "metadata": {},
   "source": [
    "#### Step 2: generate data splits to prepare for model training"
   ]
  },
  {
   "cell_type": "markdown",
   "metadata": {},
   "source": [
    "Next, we will need to generate train, validation, and test data splits for model training. We want to stratify our splits by the label we want to predict."
   ]
  },
  {
   "cell_type": "code",
   "execution_count": null,
   "metadata": {},
   "outputs": [],
   "source": [
    "label_name = \"Tcytotoxic\"\n",
    "livertumor.generate_data_splits(stratify_by=label_name)"
   ]
  },
  {
   "cell_type": "markdown",
   "metadata": {},
   "source": [
    "##### Step 3: train PyTorch model"
   ]
  },
  {
   "cell_type": "code",
   "execution_count": null,
   "metadata": {},
   "outputs": [],
   "source": [
    "# initialize model\n",
    "model_arch = \"unet\"\n",
    "n_channels = livertumor.n_channels\n",
    "img_size = livertumor.img_size\n",
    "model = mp.PatchClassifier(n_channels, img_size, model_arch=model_arch)\n",
    "\n",
    "# train model\n",
    "model = mp.train(model=model, dataset=livertumor, label_name=label_name)"
   ]
  },
  {
   "cell_type": "markdown",
   "metadata": {},
   "source": [
    "#### Step 4: generate counterfactuals"
   ]
  },
  {
   "cell_type": "code",
   "execution_count": null,
   "metadata": {},
   "outputs": [],
   "source": [
    "# specify images to generate counterfactuals\n",
    "instance = livertumor.metadata[(livertumor.metadata[\"Tumor\"]==1) & (livertumor.metadata[\"Tcytotoxic\"]==0)]\n",
    "\n",
    "# load model if needed\n",
    "model_path = '/groups/mthomson/zwang2/IMC/output/cedarsLiver_sz48_pxl3_nc44/temp/model/'\n",
    "# model = livertumor.load_model(model_path, model_arch=\"unet\")\n",
    "\n",
    "# set channel to perturb\n",
    "channel_to_perturb = [\"Glnsynthetase\",\"CCR4\",\"PDL1\",\"LAG3\",\"CD105endoglin\",\"TIM3\",\"CXCR4\",\"PD1\",\"CYR61\", \"CD44\",\"IL10\",\"CXCL12\",\"CXCR3\",\"Galectin9\",\"YAP\"]  # change to your own channel\n",
    "\n",
    "# specify optimization parameters\n",
    "optimization_params = {\n",
    "    \"data_dict\": {...},\n",
    "}\n",
    "\n",
    "# Generate counterfactuals using trained model\n",
    "cf = livertumor.get_counterfactual(input_instance = instance, model = model, channel_to_perturb=, optimization_params)"
   ]
  },
  {
   "cell_type": "code",
   "execution_count": null,
   "metadata": {},
   "outputs": [],
   "source": [
    "import os\n",
    "\n",
    "# extract id from path without file extension\n",
    "path = \"/groups/mthomson/zwang2/IMC/output/cedarsLiver_sz48_pxl3_nc44/temp/data/train/0/patch_1003.npy\"\n",
    "id = int(os.path.splitext(os.path.basename(path))[0].split(\"_\")[-1])"
   ]
  },
  {
   "cell_type": "code",
   "execution_count": null,
   "metadata": {},
   "outputs": [],
   "source": []
  },
  {
   "cell_type": "code",
   "execution_count": null,
   "metadata": {},
   "outputs": [],
   "source": []
  },
  {
   "cell_type": "code",
   "execution_count": null,
   "metadata": {},
   "outputs": [],
   "source": []
  },
  {
   "cell_type": "code",
   "execution_count": null,
   "metadata": {},
   "outputs": [],
   "source": [
    "metadata = livertumor.metadata[[\"PatientID\", \"ImageNumber\"]]\n",
    "label = livertumor.label\n",
    "\n",
    "# merge metadata and label using ImageNumber as the common column\n",
    "metadata = metadata.merge(label, on=\"ImageNumber\")\n",
    "metadata = metadata.reset_index().rename(columns={\"index\": \"patch_index\"})\n",
    "\n",
    "# add misc to metadata with columns \"location_x_index\" and \"location_y_index\"\n",
    "metadata = metadata.join(\n",
    "    pd.DataFrame(misc, columns=[\"location_x_index\", \"location_y_index\"])\n",
    ")\n",
    "\n",
    "metadata.to_csv(\n",
    "    \"/groups/mthomson/zwang2/IMC/output/cedarsLiver_sz48_pxl3_nc44/temp/metadata.csv\",\n",
    "    index=False,\n",
    ")"
   ]
  },
  {
   "cell_type": "code",
   "execution_count": null,
   "metadata": {},
   "outputs": [],
   "source": [
    "import h5py\n",
    "\n",
    "with h5py.File(\n",
    "    \"/groups/mthomson/zwang2/IMC/output/cedarsLiver_sz48_pxl3_nc44/temp/crc.h5\", \"w\"\n",
    ") as f:\n",
    "    # Create a dataset to store the images\n",
    "    dset = f.create_dataset(\n",
    "        \"images\",\n",
    "        data=livertumor.intensity,\n",
    "        compression=\"gzip\",\n",
    "        chunks=(100, 16, 16, 44),\n",
    "        dtype=livertumor.intensity.dtype,\n",
    "    )\n",
    "\n",
    "    # Create a group to store the metadata\n",
    "    metadata_numpy = livertumor.metadata.to_records(index=False)\n",
    "    dset_metadata = f.create_dataset(\n",
    "        \"metadata\", data=metadata_numpy, dtype=metadata_numpy.dtype\n",
    "    )\n",
    "\n",
    "    # Create a group to store the channel names\n",
    "    dset_channel_names = f.create_dataset(\"channel_names\", data=livertumor.channel)"
   ]
  }
 ],
 "metadata": {
  "kernelspec": {
   "display_name": "morpheus",
   "language": "python",
   "name": "morpheus"
  },
  "language_info": {
   "codemirror_mode": {
    "name": "ipython",
    "version": 3
   },
   "file_extension": ".py",
   "mimetype": "text/x-python",
   "name": "python",
   "nbconvert_exporter": "python",
   "pygments_lexer": "ipython3",
   "version": "3.9.18"
  }
 },
 "nbformat": 4,
 "nbformat_minor": 2
}
